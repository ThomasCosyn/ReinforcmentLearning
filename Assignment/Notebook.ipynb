{
 "cells": [
  {
   "attachments": {},
   "cell_type": "markdown",
   "metadata": {},
   "source": [
    "# Discovery of the environment"
   ]
  },
  {
   "cell_type": "code",
   "execution_count": 1,
   "metadata": {},
   "outputs": [],
   "source": [
    "import gymnasium as gym\n",
    "from IPython.display import clear_output\n",
    "import matplotlib.pyplot as plt\n",
    "import numpy as np\n",
    "import os\n",
    "import pickle as pkl\n",
    "import sys\n",
    "import text_flappy_bird_gym\n",
    "import time"
   ]
  },
  {
   "cell_type": "code",
   "execution_count": null,
   "metadata": {},
   "outputs": [],
   "source": [
    "if __name__ == '__main__':\n",
    "\n",
    "    # initiate environment\n",
    "    env = gym.make('TextFlappyBird-v0', height = 15, width = 20, pipe_gap = 4)\n",
    "    obs = env.reset()\n",
    "\n",
    "    # iterate\n",
    "    while True:\n",
    "\n",
    "        # Select next action\n",
    "        action = env.action_space.sample()  # for an agent, action = agent.policy(observation)\n",
    "\n",
    "        # Appy action and return new observation of the environment\n",
    "        obs, reward, done, _, info = env.step(action)\n",
    "\n",
    "        # Render the game\n",
    "        os.system(\"clear\")\n",
    "        sys.stdout.write(env.render())\n",
    "        time.sleep(0.2) # FPS\n",
    "\n",
    "        # If player is dead break\n",
    "        if done:\n",
    "            break\n",
    "\n",
    "    env.close()\n"
   ]
  },
  {
   "attachments": {},
   "cell_type": "markdown",
   "metadata": {},
   "source": [
    "# Problem formulation"
   ]
  },
  {
   "attachments": {},
   "cell_type": "markdown",
   "metadata": {},
   "source": [
    "We work on the *TextFlappyBird-v0* version on the environnement. Hence the RL context is the following :\n",
    "- observation state $(dx, dy)$ a tuple containing the horizontal and vertical distances (integers) to the next gap pipe. $dy \\in [-15, 15]$ and $dx \\in [0, 11]$\n",
    "- action space $(Flap, Idle)$ two actions\n",
    "\n",
    "Hence, our action-space state is quite small and discrete.\n",
    "\n",
    "We will try :\n",
    "- a Sarsa agent\n",
    "- a Q-learning agent\n",
    "\n",
    "With different rewards :\n",
    "- +1 at each step and -10000 when dying\n",
    "- score and -10000 when dying\n",
    "- score + 1/distance and -10000 when dying"
   ]
  },
  {
   "cell_type": "code",
   "execution_count": 3,
   "metadata": {},
   "outputs": [],
   "source": [
    "def create_q_values():\n",
    "    \n",
    "    Q = {}\n",
    "\n",
    "    for dx in range(0, 14):\n",
    "        Q[dx] = {}\n",
    "        for dy in range(-15, 16):\n",
    "            Q[dx][dy] = np.array([0., 0.])\n",
    "\n",
    "    return Q"
   ]
  },
  {
   "attachments": {},
   "cell_type": "markdown",
   "metadata": {},
   "source": [
    "## Sarsa Agent"
   ]
  },
  {
   "cell_type": "code",
   "execution_count": 2,
   "metadata": {},
   "outputs": [],
   "source": [
    "class ExpectedSarsaAgent():\n",
    "    \n",
    "    def agent_init(self, agent_init_info):\n",
    "        \"\"\"Setup for the agent\n",
    "        \n",
    "        Args:\n",
    "        agent_init_info (dict), the parameters used to initialize the agent. The dictionary contains:\n",
    "        {\n",
    "            num_states (int): The number of states,\n",
    "            states_shape (tuple): The shape of the observation space,\n",
    "            epsilon (float): The epsilon parameter for exploration,\n",
    "            step_size (float): The step-size,\n",
    "            discount (float): The discount factor,\n",
    "        }\n",
    "        \n",
    "        \"\"\"\n",
    "        # Store the parameters provided in agent_init_info.\n",
    "        self.num_actions = agent_init_info[\"num_actions\"]\n",
    "        self.states_shape = agent_init_info[\"states_shape\"]\n",
    "        self.epsilon = agent_init_info[\"epsilon\"]\n",
    "        self.step_size = agent_init_info[\"step_size\"]\n",
    "        self.discount = agent_init_info[\"discount\"]\n",
    "        self.epsilon_decay = agent_init_info[\"epsilon_decay\"]\n",
    "        self.rand_generator = np.random.RandomState(agent_init_info[\"seed\"])\n",
    "        \n",
    "        # Create an array for action-value estimates and initialize it to zero.\n",
    "        self.q = create_q_values()\n",
    "    \n",
    "    def agent_start(self, state):\n",
    "        \"\"\"The first method called when the episode starts, called after\n",
    "        the environment starts.\n",
    "        Args:\n",
    "            state (tuple): the state from the\n",
    "                environment's evn_start function.\n",
    "        Returns:\n",
    "            action (int): the first action the agent takes.\n",
    "        \"\"\"\n",
    "        \n",
    "        # Choose action using epsilon greedy.\n",
    "        current_q = self.q[state[0][0]][state[0][1]]\n",
    "        if self.rand_generator.rand() < self.epsilon:\n",
    "            action = self.rand_generator.randint(self.num_actions)\n",
    "        else:\n",
    "            action = self.argmax(current_q)\n",
    "        self.prev_state = state\n",
    "        self.prev_action = action\n",
    "        return action\n",
    "    \n",
    "    def agent_step(self, reward, state):\n",
    "        \"\"\"A step taken by the agent.\n",
    "        Args:\n",
    "            reward (float): the reward received for taking the last action taken\n",
    "            state (int): the state from the\n",
    "                environment's step based on where the agent ended up after the\n",
    "                last step.\n",
    "        Returns:\n",
    "            action (int): the action the agent is taking.\n",
    "        \"\"\"\n",
    "        \n",
    "        # Choose action using epsilon greedy.\n",
    "        current_q = self.q[state[0][0]][state[0][1]]\n",
    "        if self.rand_generator.rand() < self.epsilon:\n",
    "            action = self.rand_generator.randint(self.num_actions)\n",
    "        else:\n",
    "            action = self.argmax(current_q)\n",
    "        \n",
    "        # Perform an update\n",
    "        self.q[self.prev_state[0][0]][self.prev_state[0][1]][self.prev_action] += self.step_size * (reward + self.discount * self.q[state[0][0]][state[0][1]][action] - self.q[self.prev_state[0][0]][self.prev_state[0][1]][self.prev_action])\n",
    "        self.prev_state = state\n",
    "        self.prev_action = action\n",
    "        self.epsilon *= self.epsilon_decay\n",
    "        \n",
    "        return action\n",
    "    \n",
    "    def policy(self, state):\n",
    "        \"\"\"A step taken by the agent without updating action values\n",
    "        Args:\n",
    "            state (int): the state from the\n",
    "                environment's step based on where the agent ended up after the\n",
    "                last step.\n",
    "        Returns:\n",
    "            action (int): the action the agent is taking.\n",
    "        \"\"\"\n",
    "        # Choose action using epsilon greedy.\n",
    "        current_q = self.q[state[0][0]][state[0][1]]\n",
    "        if self.rand_generator.rand() < self.epsilon:\n",
    "            action = self.rand_generator.randint(self.num_actions)\n",
    "        else:\n",
    "            action = self.argmax(current_q)\n",
    "\n",
    "        return action\n",
    "\n",
    "    def agent_end(self, reward):\n",
    "        \"\"\"Run when the agent terminates.\n",
    "        Args:\n",
    "            reward (float): the reward the agent received for entering the\n",
    "                terminal state.\n",
    "        \"\"\"\n",
    "        # Perform the last update in the episode\n",
    "        self.q[self.prev_state[0][0]][self.prev_state[0][1]][self.prev_action] += self.step_size * (reward - self.q[self.prev_state[0][0]][self.prev_state[0][1]][self.prev_action])\n",
    "        \n",
    "    def argmax(self, q_values):\n",
    "        \"\"\"argmax with random tie-breaking\n",
    "        Args:\n",
    "            q_values (Numpy array): the array of action-values\n",
    "        Returns:\n",
    "            action (int): an action with the highest value\n",
    "        \"\"\"\n",
    "        top = float(\"-inf\")\n",
    "        ties = []\n",
    "\n",
    "        for i in range(len(q_values)):\n",
    "            if q_values[i] > top:\n",
    "                top = q_values[i]\n",
    "                ties = []\n",
    "\n",
    "            if q_values[i] == top:\n",
    "                ties.append(i)\n",
    "\n",
    "        return self.rand_generator.choice(ties)"
   ]
  },
  {
   "attachments": {},
   "cell_type": "markdown",
   "metadata": {},
   "source": [
    "## Q-Learning Agent"
   ]
  },
  {
   "cell_type": "code",
   "execution_count": 52,
   "metadata": {},
   "outputs": [],
   "source": [
    "class QLearningAgent():\n",
    "    \n",
    "    def agent_init(self, agent_init_info):\n",
    "        \"\"\"Setup for the agent\n",
    "        \n",
    "        Args:\n",
    "        agent_init_info (dict), the parameters used to initialize the agent. The dictionary contains:\n",
    "        {\n",
    "            num_states (int): The number of states,\n",
    "            states_shape (tuple): The shape of the observation space,\n",
    "            epsilon (float): The epsilon parameter for exploration,\n",
    "            step_size (float): The step-size,\n",
    "            discount (float): The discount factor,\n",
    "        }\n",
    "        \n",
    "        \"\"\"\n",
    "        # Store the parameters provided in agent_init_info.\n",
    "        self.num_actions = agent_init_info[\"num_actions\"]\n",
    "        self.states_shape = agent_init_info[\"states_shape\"]\n",
    "        self.epsilon = agent_init_info[\"epsilon\"]\n",
    "        self.step_size = agent_init_info[\"step_size\"]\n",
    "        self.discount = agent_init_info[\"discount\"]\n",
    "        self.epsilon_decay = agent_init_info[\"epsilon_decay\"]\n",
    "        self.start_decay = agent_init_info[\"start_decay\"]\n",
    "        self.rand_generator = np.random.RandomState(agent_init_info[\"seed\"])\n",
    "        \n",
    "        # Create an array for action-value estimates and initialize it to zero.\n",
    "        self.q = create_q_values()\n",
    "    \n",
    "    def agent_start(self, state):\n",
    "        \"\"\"The first method called when the episode starts, called after\n",
    "        the environment starts.\n",
    "        Args:\n",
    "            state (tuple): the state from the\n",
    "                environment's evn_start function.\n",
    "        Returns:\n",
    "            action (int): the first action the agent takes.\n",
    "        \"\"\"\n",
    "        \n",
    "        # Choose action using epsilon greedy.\n",
    "        current_q = self.q[state[0][0]][state[0][1]]\n",
    "        if self.rand_generator.rand() < self.epsilon:\n",
    "            action = self.rand_generator.randint(self.num_actions)\n",
    "        else:\n",
    "            action = self.argmax(current_q)\n",
    "        self.prev_state = state\n",
    "        self.prev_action = action\n",
    "        return action\n",
    "    \n",
    "    def agent_step(self, reward, state):\n",
    "        \"\"\"A step taken by the agent.\n",
    "        Args:\n",
    "            reward (float): the reward received for taking the last action taken\n",
    "            state (int): the state from the\n",
    "                environment's step based on where the agent ended up after the\n",
    "                last step.\n",
    "        Returns:\n",
    "            action (int): the action the agent is taking.\n",
    "        \"\"\"\n",
    "        \n",
    "        # Choose action using epsilon greedy.\n",
    "        current_q = self.q[state[0][0]][state[0][1]]\n",
    "        if self.rand_generator.rand() < self.epsilon:\n",
    "            action = self.rand_generator.randint(self.num_actions)\n",
    "        else:\n",
    "            action = self.argmax(current_q)\n",
    "        \n",
    "        # Perform an update\n",
    "        self.q[self.prev_state[0][0]][self.prev_state[0][1]][self.prev_action] += self.step_size * (reward + self.discount * np.max(self.q[state[0][0]][state[0][1]]) - self.q[self.prev_state[0][0]][self.prev_state[0][1]][self.prev_action])\n",
    "        self.prev_state = state\n",
    "        self.prev_action = action\n",
    "        \n",
    "        return action\n",
    "    \n",
    "    def update_epislon(self, episodes):\n",
    "        if episodes > self.start_decay:\n",
    "            self.epsilon *= self.epsilon_decay\n",
    "\n",
    "    def policy(self, state):\n",
    "        \"\"\"A step taken by the agent without updating action values\n",
    "        Args:\n",
    "            state (int): the state from the\n",
    "                environment's step based on where the agent ended up after the\n",
    "                last step.\n",
    "        Returns:\n",
    "            action (int): the action the agent is taking.\n",
    "        \"\"\"\n",
    "        # Choose action using epsilon greedy.\n",
    "        current_q = self.q[state[0][0]][state[0][1]]\n",
    "        if self.rand_generator.rand() < self.epsilon:\n",
    "            action = self.rand_generator.randint(self.num_actions)\n",
    "        else:\n",
    "            action = self.argmax(current_q)\n",
    "\n",
    "        return action\n",
    "\n",
    "    def agent_end(self, reward):\n",
    "        \"\"\"Run when the agent terminates.\n",
    "        Args:\n",
    "            reward (float): the reward the agent received for entering the\n",
    "                terminal state.\n",
    "        \"\"\"\n",
    "        # Perform the last update in the episode\n",
    "        self.q[self.prev_state[0][0]][self.prev_state[0][1]][self.prev_action] += self.step_size * (reward - self.q[self.prev_state[0][0]][self.prev_state[0][1]][self.prev_action])\n",
    "        \n",
    "    def argmax(self, q_values):\n",
    "        \"\"\"argmax with random tie-breaking\n",
    "        Args:\n",
    "            q_values (Numpy array): the array of action-values\n",
    "        Returns:\n",
    "            action (int): an action with the highest value\n",
    "        \"\"\"\n",
    "        top = float(\"-inf\")\n",
    "        ties = []\n",
    "\n",
    "        for i in range(len(q_values)):\n",
    "            if q_values[i] > top:\n",
    "                top = q_values[i]\n",
    "                ties = []\n",
    "\n",
    "            if q_values[i] == top:\n",
    "                ties.append(i)\n",
    "\n",
    "        return self.rand_generator.choice(ties)"
   ]
  },
  {
   "attachments": {},
   "cell_type": "markdown",
   "metadata": {},
   "source": [
    "# Training"
   ]
  },
  {
   "cell_type": "code",
   "execution_count": 54,
   "metadata": {},
   "outputs": [],
   "source": [
    "agent_type = \"Q\"\n",
    "num_episodes = 50000\n",
    "def train(agent_type = agent_type, num_episodes = num_episodes, epsilon = 0.01, step_size = 0.1, discount = 0.95, epsilon_decay = 1, start_decay = 20000):\n",
    "\n",
    "    # initiate environment\n",
    "    env = gym.make('TextFlappyBird-v0', height = 15, width = 20, pipe_gap = 4)\n",
    "\n",
    "    # setup agent\n",
    "    if agent_type == \"SARSA\":\n",
    "        agent = ExpectedSarsaAgent()\n",
    "    elif agent_type == \"Q\":\n",
    "        agent = QLearningAgent()\n",
    "    agent.agent_init({\"num_actions\" : 2,\n",
    "                    \"states_shape\" : (1, 1),\n",
    "                    \"epsilon\" : epsilon,\n",
    "                    \"step_size\" : step_size,\n",
    "                    \"discount\" : discount,\n",
    "                    \"epsilon_decay\" : epsilon_decay,\n",
    "                    \"start_decay\" : start_decay,\n",
    "                    \"seed\" : 0})\n",
    "\n",
    "    scores = []\n",
    "    count_success = 0\n",
    "\n",
    "    for i in range(num_episodes):\n",
    "\n",
    "        if i % 5000 == 0:\n",
    "            print(i)\n",
    "\n",
    "        # Initialize episode\n",
    "        obs = env.reset()\n",
    "        action = agent.agent_start(obs)\n",
    "        done = False\n",
    "\n",
    "        while not done:\n",
    "\n",
    "            # Take step\n",
    "            next_state, reward, done, _, info = env.step(action)\n",
    "            next_obs = (next_state, info)\n",
    "            next_action = agent.agent_step(reward, next_obs)\n",
    "\n",
    "            # Update\n",
    "            obs = next_obs\n",
    "            action = next_action\n",
    "        \n",
    "        # Last update\n",
    "        agent.agent_end(reward)\n",
    "        scores.append(info['score'])\n",
    "        agent.update_epislon(i)\n",
    "\n",
    "        # if info['score'] > 500:\n",
    "        #     count_success += 1\n",
    "        #     if count_success >= 10:\n",
    "        #         break\n",
    "        # else:\n",
    "        #     count_success = 0\n",
    "    \n",
    "    return agent, scores"
   ]
  },
  {
   "cell_type": "code",
   "execution_count": 6,
   "metadata": {},
   "outputs": [
    {
     "name": "stdout",
     "output_type": "stream",
     "text": [
      "0\n",
      "5000\n",
      "10000\n",
      "15000\n",
      "20000\n",
      "25000\n",
      "30000\n",
      "35000\n",
      "40000\n",
      "45000\n"
     ]
    }
   ],
   "source": [
    "agent, scores = train(agent_type = \"SARSA\", num_episodes = 50000)"
   ]
  },
  {
   "cell_type": "code",
   "execution_count": 40,
   "metadata": {},
   "outputs": [
    {
     "data": {
      "text/plain": [
       "[<matplotlib.lines.Line2D at 0x22b08034610>]"
      ]
     },
     "execution_count": 40,
     "metadata": {},
     "output_type": "execute_result"
    },
    {
     "data": {
      "image/png": "[encoded data removed]",
      "text/plain": [
       "<Figure size 640x480 with 1 Axes>"
      ]
     },
     "metadata": {},
     "output_type": "display_data"
    }
   ],
   "source": [
    "plt.plot(scores)"
   ]
  },
  {
   "cell_type": "code",
   "execution_count": 7,
   "metadata": {},
   "outputs": [],
   "source": [
    "pkl.dump(agent, open('./agents/2/agent.pkl', 'wb'))"
   ]
  },
  {
   "cell_type": "code",
   "execution_count": 8,
   "metadata": {},
   "outputs": [],
   "source": [
    "pkl.dump(scores, open('./agents/2/scores.pkl', 'wb'))"
   ]
  },
  {
   "attachments": {},
   "cell_type": "markdown",
   "metadata": {},
   "source": [
    "# Comparison of agents"
   ]
  },
  {
   "cell_type": "code",
   "execution_count": 11,
   "metadata": {},
   "outputs": [
    {
     "data": {
      "image/png": "[encoded data removed]",
      "text/plain": [
       "<Figure size 640x480 with 1 Axes>"
      ]
     },
     "metadata": {},
     "output_type": "display_data"
    }
   ],
   "source": [
    "scores_SARSA = pkl.load(open('./agents/2/scores.pkl', 'rb'))\n",
    "scores_Q = pkl.load(open('./agents/1/scores.pkl', 'rb'))\n",
    "\n",
    "plt.plot(scores_Q, label = \"Q-Learning\")\n",
    "plt.plot(scores_SARSA, label = \"SARSA\")\n",
    "\n",
    "plt.legend()\n",
    "plt.xlabel(\"Num episodes\")\n",
    "plt.ylabel(\"Lifetime\")\n",
    "plt.show()"
   ]
  },
  {
   "attachments": {},
   "cell_type": "markdown",
   "metadata": {},
   "source": [
    "# State-Value plot"
   ]
  },
  {
   "cell_type": "code",
   "execution_count": 22,
   "metadata": {},
   "outputs": [],
   "source": [
    "agent_type = \"Q\"\n",
    "num_episodes = 50000"
   ]
  },
  {
   "cell_type": "code",
   "execution_count": 23,
   "metadata": {},
   "outputs": [
    {
     "data": {
      "text/plain": [
       "[]"
      ]
     },
     "execution_count": 23,
     "metadata": {},
     "output_type": "execute_result"
    },
    {
     "data": {
      "image/png": "[encoded data removed]",
      "text/plain": [
       "<Figure size 640x480 with 4 Axes>"
      ]
     },
     "metadata": {},
     "output_type": "display_data"
    }
   ],
   "source": [
    "x = list(range(0, 14))\n",
    "y = list(range(-15, 15))\n",
    "\n",
    "# Idle\n",
    "z1 = np.array([[agent.q[dx][dy][0] for dy in y] for dx in x])\n",
    "# Flap\n",
    "z2 = np.array([[agent.q[dx][dy][1] for dy in y] for dx in x])\n",
    "\n",
    "x = np.array(x)\n",
    "y = np.array(y)\n",
    "\n",
    "fig, ax = plt.subplots(1, 2)\n",
    "\n",
    "im1 = ax[0].imshow(z1, cmap='viridis', interpolation='nearest', origin='lower', extent=[x.min(), x.max(), y.min(), y.max()])\n",
    "ax[0].set_title('Idle')\n",
    "fig.colorbar(im1, ax = ax[0])\n",
    "\n",
    "im2 = ax[1].imshow(z2, cmap='viridis', interpolation='nearest', origin='lower', extent=[x.min(), x.max(), y.min(), y.max()])\n",
    "ax[1].set_title('Flap')\n",
    "fig.colorbar(im2, ax = ax[1])\n",
    "\n",
    "for i in range(2):\n",
    "    ax[i].set_xlabel(\"dx\")\n",
    "    ax[i].set_ylabel(\"dy\")\n",
    "\n",
    "fig.text(x = 0.2, y = 0, s = f\"\\nState-value space for {agent_type} agent with {num_episodes} iterations\")\n",
    "\n",
    "plt.plot()"
   ]
  },
  {
   "attachments": {},
   "cell_type": "markdown",
   "metadata": {},
   "source": [
    "# Parameter sweep"
   ]
  },
  {
   "attachments": {},
   "cell_type": "markdown",
   "metadata": {},
   "source": [
    "To study how the agents behave when sweeping parameters ($\\epsilon$, $\\gamma$, $\\alpha$), we need to define a relevant metric.\n",
    "Since we can easily train a model that will never lose, the interesting aspect is more about the convergence speed.  \n",
    "Thus, we will compare what is the average score on the last 100 games of the agent during is training, when training `50000` episodes."
   ]
  },
  {
   "attachments": {},
   "cell_type": "markdown",
   "metadata": {},
   "source": [
    "## Epsilon greediness parameter"
   ]
  },
  {
   "attachments": {},
   "cell_type": "markdown",
   "metadata": {},
   "source": [
    "Let's see the influence of the degree of randomness in the $\\epsilon$-greedy algorithm."
   ]
  },
  {
   "cell_type": "code",
   "execution_count": 25,
   "metadata": {},
   "outputs": [
    {
     "name": "stdout",
     "output_type": "stream",
     "text": [
      "Computing for epsilon = 0.2\n",
      "0\n",
      "5000\n",
      "10000\n",
      "15000\n",
      "20000\n",
      "25000\n",
      "30000\n",
      "35000\n",
      "40000\n",
      "45000\n",
      "Computing for epsilon = 0.1\n",
      "0\n",
      "5000\n",
      "10000\n",
      "15000\n",
      "20000\n",
      "25000\n",
      "30000\n",
      "35000\n",
      "40000\n",
      "45000\n",
      "Computing for epsilon = 0.05\n",
      "0\n",
      "5000\n",
      "10000\n",
      "15000\n",
      "20000\n",
      "25000\n",
      "30000\n",
      "35000\n",
      "40000\n",
      "45000\n",
      "Computing for epsilon = 0.02\n",
      "0\n",
      "5000\n",
      "10000\n",
      "15000\n",
      "20000\n",
      "25000\n",
      "30000\n",
      "35000\n",
      "40000\n",
      "45000\n",
      "Computing for epsilon = 0.01\n",
      "0\n",
      "5000\n",
      "10000\n",
      "15000\n",
      "20000\n",
      "25000\n",
      "30000\n",
      "35000\n",
      "40000\n",
      "45000\n",
      "Computing for epsilon = 0.005\n",
      "0\n",
      "5000\n",
      "10000\n",
      "15000\n",
      "20000\n",
      "25000\n",
      "30000\n",
      "35000\n",
      "40000\n",
      "45000\n"
     ]
    }
   ],
   "source": [
    "epsilons = [0.2, 0.1, 0.05, 0.02, 0.01, 0.005]\n",
    "agents = []\n",
    "scores_list = []\n",
    "avg_perf_e = []\n",
    "\n",
    "for epsilon in epsilons:\n",
    "\n",
    "    print(f\"Computing for epsilon = {epsilon}\")\n",
    "\n",
    "    #perf = []\n",
    "    agent, scores = train(agent_type = \"Q\", num_episodes = 50000, epsilon = epsilon)\n",
    "    avg_perf_e.append(scores[-100:])\n",
    "    agents.append(agent)\n",
    "    scores_list.append(scores)\n",
    "\n",
    "    # avg_perf_e.append(np.array(perf).mean())"
   ]
  },
  {
   "cell_type": "code",
   "execution_count": 32,
   "metadata": {},
   "outputs": [
    {
     "data": {
      "text/plain": [
       "[4.5, 11.18, 25.21, 44.99, 12.8, 0.74]"
      ]
     },
     "execution_count": 32,
     "metadata": {},
     "output_type": "execute_result"
    }
   ],
   "source": [
    "[np.mean(np.array(perf)) for perf in avg_perf_e]"
   ]
  },
  {
   "cell_type": "code",
   "execution_count": 33,
   "metadata": {},
   "outputs": [
    {
     "data": {
      "text/plain": [
       "Text(0.5, 1.0, 'Effect of epsilon on training')"
      ]
     },
     "execution_count": 33,
     "metadata": {},
     "output_type": "execute_result"
    },
    {
     "data": {
      "image/png": "[encoded data removed]",
      "text/plain": [
       "<Figure size 640x480 with 1 Axes>"
      ]
     },
     "metadata": {},
     "output_type": "display_data"
    }
   ],
   "source": [
    "plt.plot(epsilons, [np.mean(np.array(perf)) for perf in avg_perf_e])\n",
    "plt.xscale('log')\n",
    "plt.xlabel(\"epsilon\")\n",
    "plt.ylabel(\"Average lifetime on last 100 episodes\")\n",
    "plt.title(\"Effect of epsilon on training\")"
   ]
  },
  {
   "attachments": {},
   "cell_type": "markdown",
   "metadata": {},
   "source": [
    "## Discount factor influence"
   ]
  },
  {
   "attachments": {},
   "cell_type": "markdown",
   "metadata": {},
   "source": [
    "First, let's see the influence of the discount factor $\\gamma$. Is a far or near-sighted policy the best ?"
   ]
  },
  {
   "cell_type": "code",
   "execution_count": 35,
   "metadata": {},
   "outputs": [
    {
     "name": "stdout",
     "output_type": "stream",
     "text": [
      "Computing for gamma = 0.8\n",
      "0\n",
      "5000\n",
      "10000\n",
      "15000\n",
      "20000\n",
      "25000\n",
      "30000\n",
      "35000\n",
      "40000\n",
      "45000\n",
      "Computing for gamma = 0.9\n",
      "0\n",
      "5000\n",
      "10000\n",
      "15000\n",
      "20000\n",
      "25000\n",
      "30000\n",
      "35000\n",
      "40000\n",
      "45000\n",
      "Computing for gamma = 0.95\n",
      "0\n",
      "5000\n",
      "10000\n",
      "15000\n",
      "20000\n",
      "25000\n",
      "30000\n",
      "35000\n",
      "40000\n",
      "45000\n",
      "Computing for gamma = 0.97\n",
      "0\n",
      "5000\n",
      "10000\n",
      "15000\n",
      "20000\n",
      "25000\n",
      "30000\n",
      "35000\n",
      "40000\n",
      "45000\n",
      "Computing for gamma = 0.99\n",
      "0\n",
      "5000\n",
      "10000\n",
      "15000\n",
      "20000\n",
      "25000\n",
      "30000\n",
      "35000\n",
      "40000\n",
      "45000\n",
      "Computing for gamma = 0.999\n",
      "0\n",
      "5000\n",
      "10000\n",
      "15000\n",
      "20000\n",
      "25000\n",
      "30000\n",
      "35000\n",
      "40000\n",
      "45000\n"
     ]
    }
   ],
   "source": [
    "gammas = [0.8, 0.9, 0.95, 0.97, 0.99, 0.999]\n",
    "avg_perf_g = []\n",
    "perf = []\n",
    "agents_d = []\n",
    "scores_d = []\n",
    "\n",
    "\n",
    "for gamma in gammas:\n",
    "\n",
    "    print(f\"Computing for gamma = {gamma}\")\n",
    "\n",
    "    agent, scores = train(num_episodes = 50000, epsilon = 0.02, discount = gamma)\n",
    "    perf.append(scores[-100:])\n",
    "    agents_d.append(agent)\n",
    "    scores_d.append(scores)\n",
    "\n",
    "    #avg_perf_g.append(np.array(perf).mean())"
   ]
  },
  {
   "cell_type": "code",
   "execution_count": 38,
   "metadata": {},
   "outputs": [
    {
     "data": {
      "text/plain": [
       "Text(0.5, 1.0, 'Effect of discount factor on training')"
      ]
     },
     "execution_count": 38,
     "metadata": {},
     "output_type": "execute_result"
    },
    {
     "data": {
      "image/png": "[encoded data removed]",
      "text/plain": [
       "<Figure size 640x480 with 1 Axes>"
      ]
     },
     "metadata": {},
     "output_type": "display_data"
    }
   ],
   "source": [
    "plt.plot(gammas, [np.mean(np.array(x)) for x in perf])\n",
    "plt.xscale('log')\n",
    "plt.xlabel(\"gamma\")\n",
    "plt.ylabel(\"Average lifetime on last 100 episodes\")\n",
    "plt.title(\"Effect of discount factor on training\")"
   ]
  },
  {
   "attachments": {},
   "cell_type": "markdown",
   "metadata": {},
   "source": [
    "## Step size update"
   ]
  },
  {
   "attachments": {},
   "cell_type": "markdown",
   "metadata": {},
   "source": [
    "Let see the influence of changing the step size $\\alpha$ on the convergence"
   ]
  },
  {
   "cell_type": "code",
   "execution_count": 41,
   "metadata": {},
   "outputs": [
    {
     "name": "stdout",
     "output_type": "stream",
     "text": [
      "Computing for alpha = 0.5\n",
      "0\n",
      "5000\n",
      "10000\n",
      "15000\n",
      "20000\n",
      "25000\n",
      "30000\n",
      "35000\n",
      "40000\n",
      "45000\n",
      "Computing for alpha = 0.2\n",
      "0\n",
      "5000\n",
      "10000\n",
      "15000\n",
      "20000\n",
      "25000\n",
      "30000\n",
      "35000\n",
      "40000\n",
      "45000\n",
      "Computing for alpha = 0.1\n",
      "0\n",
      "5000\n",
      "10000\n",
      "15000\n",
      "20000\n",
      "25000\n",
      "30000\n",
      "35000\n",
      "40000\n",
      "45000\n",
      "Computing for alpha = 0.05\n",
      "0\n",
      "5000\n",
      "10000\n",
      "15000\n",
      "20000\n",
      "25000\n",
      "30000\n",
      "35000\n",
      "40000\n",
      "45000\n",
      "Computing for alpha = 0.02\n",
      "0\n",
      "5000\n",
      "10000\n",
      "15000\n",
      "20000\n",
      "25000\n",
      "30000\n",
      "35000\n",
      "40000\n",
      "45000\n",
      "Computing for alpha = 0.01\n",
      "0\n",
      "5000\n",
      "10000\n",
      "15000\n",
      "20000\n",
      "25000\n",
      "30000\n",
      "35000\n",
      "40000\n",
      "45000\n"
     ]
    }
   ],
   "source": [
    "alphas = [0.5, 0.2, 0.1, 0.05, 0.02, 0.01]\n",
    "perf_a = []\n",
    "scores_a = []\n",
    "agents_a = []\n",
    "\n",
    "for alpha in alphas:\n",
    "\n",
    "    print(f\"Computing for alpha = {alpha}\")\n",
    "\n",
    "    agent, scores = train(num_episodes = 50000, \n",
    "                          epsilon = 0.02,\n",
    "                           step_size = alpha,\n",
    "                           discount = 0.999)\n",
    "    perf_a.append(scores[-100:])\n",
    "    agents_a.append(agent)\n",
    "    scores_a.append(scores)\n",
    "    \n"
   ]
  },
  {
   "cell_type": "code",
   "execution_count": 42,
   "metadata": {},
   "outputs": [
    {
     "data": {
      "text/plain": [
       "Text(0.5, 1.0, 'Effect of step-size on training')"
      ]
     },
     "execution_count": 42,
     "metadata": {},
     "output_type": "execute_result"
    },
    {
     "data": {
      "image/png": "[encoded data removed]",
      "text/plain": [
       "<Figure size 640x480 with 1 Axes>"
      ]
     },
     "metadata": {},
     "output_type": "display_data"
    }
   ],
   "source": [
    "plt.plot(alphas, [np.mean(np.array(x)) for x in perf_a])\n",
    "plt.xscale('log')\n",
    "plt.xlabel(\"alpha\")\n",
    "plt.ylabel(\"Average lifetime on last 100 episodes\")\n",
    "plt.title(\"Effect of step-size on training\")"
   ]
  },
  {
   "attachments": {},
   "cell_type": "markdown",
   "metadata": {},
   "source": [
    "# Adding epsilon decay"
   ]
  },
  {
   "attachments": {},
   "cell_type": "markdown",
   "metadata": {},
   "source": [
    "What we notice, and what confirms the intuition, is that when the agent starts having very good scores, the only reason that it can lose is taking a random stupid action at the wrong time. To avoid that we can implement an epsilon decay.  \n",
    "We implemented it in our agent and can compare the result of the agent with and without the decay."
   ]
  },
  {
   "cell_type": "code",
   "execution_count": 55,
   "metadata": {},
   "outputs": [
    {
     "name": "stdout",
     "output_type": "stream",
     "text": [
      "0\n",
      "5000\n",
      "10000\n",
      "15000\n",
      "20000\n",
      "25000\n",
      "30000\n",
      "35000\n",
      "40000\n",
      "45000\n"
     ]
    }
   ],
   "source": [
    "_, scoreWithoutDecay = train(agent_type = \"Q\",\n",
    "                          num_episodes = num_episodes,\n",
    "                            epsilon = 0.02,\n",
    "                            step_size = 0.1,\n",
    "                             discount = 0.999)\n",
    "agent, scoreWithDecay = train(agent_type = \"Q\",\n",
    "                          num_episodes = num_episodes,\n",
    "                            epsilon = 0.02,\n",
    "                            step_size = 0.1,\n",
    "                            discount = 0.999,\n",
    "                            epsilon_decay = 0.9999)"
   ]
  },
  {
   "cell_type": "code",
   "execution_count": 62,
   "metadata": {},
   "outputs": [
    {
     "data": {
      "text/plain": [
       "<matplotlib.legend.Legend at 0x2098c91b190>"
      ]
     },
     "execution_count": 62,
     "metadata": {},
     "output_type": "execute_result"
    },
    {
     "data": {
      "image/png": "[encoded data removed]",
      "text/plain": [
       "<Figure size 640x480 with 1 Axes>"
      ]
     },
     "metadata": {},
     "output_type": "display_data"
    }
   ],
   "source": [
    "plt.plot(scoreWithDecay, label = \"With decay\")\n",
    "plt.plot(scoreWithoutDecay, label = \"Without decay\")\n",
    "plt.legend()"
   ]
  },
  {
   "attachments": {},
   "cell_type": "markdown",
   "metadata": {},
   "source": [
    "# Visualize agent"
   ]
  },
  {
   "attachments": {},
   "cell_type": "markdown",
   "metadata": {},
   "source": [
    "Here is a piece of code to visualize the behaviour of my agent in the environment."
   ]
  },
  {
   "cell_type": "code",
   "execution_count": 63,
   "metadata": {},
   "outputs": [
    {
     "name": "stdout",
     "output_type": "stream",
     "text": [
      "Text Flappy Bird!\n",
      "Score: 8\n",
      "----------------------\n",
      "[  \u001b[32m|\u001b[0m         \u001b[32m|\u001b[0m       ]\n",
      "[  \u001b[32m|\u001b[0m         \u001b[32m|\u001b[0m       ]\n",
      "[  \u001b[32m|\u001b[0m         \u001b[32m|\u001b[0m       ]\n",
      "[  \u001b[32m|\u001b[0m         \u001b[32m|\u001b[0m       ]\n",
      "[  \u001b[32m|\u001b[0m   \u001b[33m@\u001b[0m     \u001b[32m|\u001b[0m       ]\n",
      "[  \u001b[32m|\u001b[0m         \u001b[32m|\u001b[0m       ]\n",
      "[                    ]\n",
      "[                    ]\n",
      "[                    ]\n",
      "[                    ]\n",
      "[  \u001b[32m|\u001b[0m         \u001b[32m|\u001b[0m       ]\n",
      "[  \u001b[32m|\u001b[0m         \u001b[32m|\u001b[0m       ]\n",
      "[  \u001b[32m|\u001b[0m         \u001b[32m|\u001b[0m       ]\n",
      "[  \u001b[32m|\u001b[0m         \u001b[32m|\u001b[0m       ]\n",
      "[  \u001b[32m|\u001b[0m         \u001b[32m|\u001b[0m       ]\n",
      "^^^^^^^^^^^^^^^^^^^^^^\n",
      "Player Action (Flap)\n",
      "Distance From Pipe (dx=6,dy=-4)\n"
     ]
    },
    {
     "ename": "KeyboardInterrupt",
     "evalue": "",
     "output_type": "error",
     "traceback": [
      "\u001b[1;31m---------------------------------------------------------------------------\u001b[0m",
      "\u001b[1;31mKeyboardInterrupt\u001b[0m                         Traceback (most recent call last)",
      "Cell \u001b[1;32mIn[63], line 19\u001b[0m\n\u001b[0;32m     17\u001b[0m \u001b[39m# Render the game\u001b[39;00m\n\u001b[0;32m     18\u001b[0m sys\u001b[39m.\u001b[39mstdout\u001b[39m.\u001b[39mwrite(env\u001b[39m.\u001b[39mrender())\n\u001b[1;32m---> 19\u001b[0m time\u001b[39m.\u001b[39;49msleep(\u001b[39m1\u001b[39;49m\u001b[39m/\u001b[39;49m\u001b[39m10\u001b[39;49m) \u001b[39m# FPS\u001b[39;00m\n\u001b[0;32m     21\u001b[0m \u001b[39m# If player is dead break\u001b[39;00m\n\u001b[0;32m     22\u001b[0m \u001b[39mif\u001b[39;00m done:\n",
      "\u001b[1;31mKeyboardInterrupt\u001b[0m: "
     ]
    }
   ],
   "source": [
    "# initiate environment\n",
    "env = gym.make('TextFlappyBird-v0', height = 15, width = 20, pipe_gap = 4)\n",
    "state = env.reset()\n",
    "\n",
    "# iterate\n",
    "while True:\n",
    "\n",
    "    clear_output(wait = True)\n",
    "\n",
    "    # Select next action\n",
    "    action = agent.policy(state) \n",
    "\n",
    "    # Appy action and return new observation of the environment\n",
    "    obs, reward, done, _, info = env.step(action)\n",
    "    state = (obs, info)\n",
    "\n",
    "    # Render the game\n",
    "    sys.stdout.write(env.render())\n",
    "    time.sleep(1/10) # FPS\n",
    "\n",
    "    # If player is dead break\n",
    "    if done:\n",
    "        break\n",
    "\n",
    "env.close()"
   ]
  },
  {
   "attachments": {},
   "cell_type": "markdown",
   "metadata": {},
   "source": [
    "# Difference with screen-v0"
   ]
  },
  {
   "cell_type": "code",
   "execution_count": 25,
   "metadata": {},
   "outputs": [
    {
     "ename": "TypeError",
     "evalue": "unhashable type: 'numpy.ndarray'",
     "output_type": "error",
     "traceback": [
      "\u001b[1;31m---------------------------------------------------------------------------\u001b[0m",
      "\u001b[1;31mTypeError\u001b[0m                                 Traceback (most recent call last)",
      "Cell \u001b[1;32mIn[25], line 11\u001b[0m\n\u001b[0;32m      8\u001b[0m clear_output(wait \u001b[39m=\u001b[39m \u001b[39mTrue\u001b[39;00m)\n\u001b[0;32m     10\u001b[0m \u001b[39m# Select next action\u001b[39;00m\n\u001b[1;32m---> 11\u001b[0m action \u001b[39m=\u001b[39m agent\u001b[39m.\u001b[39;49mpolicy(state) \n\u001b[0;32m     13\u001b[0m \u001b[39m# Appy action and return new observation of the environment\u001b[39;00m\n\u001b[0;32m     14\u001b[0m obs, reward, done, _, info \u001b[39m=\u001b[39m env\u001b[39m.\u001b[39mstep(action)\n",
      "Cell \u001b[1;32mIn[7], line 85\u001b[0m, in \u001b[0;36mExpectedSarsaAgent.policy\u001b[1;34m(self, state)\u001b[0m\n\u001b[0;32m     76\u001b[0m \u001b[39m\u001b[39m\u001b[39m\"\"\"A step taken by the agent without updating action values\u001b[39;00m\n\u001b[0;32m     77\u001b[0m \u001b[39mArgs:\u001b[39;00m\n\u001b[0;32m     78\u001b[0m \u001b[39m    state (int): the state from the\u001b[39;00m\n\u001b[1;32m   (...)\u001b[0m\n\u001b[0;32m     82\u001b[0m \u001b[39m    action (int): the action the agent is taking.\u001b[39;00m\n\u001b[0;32m     83\u001b[0m \u001b[39m\"\"\"\u001b[39;00m\n\u001b[0;32m     84\u001b[0m \u001b[39m# Choose action using epsilon greedy.\u001b[39;00m\n\u001b[1;32m---> 85\u001b[0m current_q \u001b[39m=\u001b[39m \u001b[39mself\u001b[39;49m\u001b[39m.\u001b[39;49mq[state[\u001b[39m0\u001b[39;49m][\u001b[39m0\u001b[39;49m]][state[\u001b[39m0\u001b[39m][\u001b[39m1\u001b[39m]]\n\u001b[0;32m     86\u001b[0m \u001b[39mif\u001b[39;00m \u001b[39mself\u001b[39m\u001b[39m.\u001b[39mrand_generator\u001b[39m.\u001b[39mrand() \u001b[39m<\u001b[39m \u001b[39mself\u001b[39m\u001b[39m.\u001b[39mepsilon:\n\u001b[0;32m     87\u001b[0m     action \u001b[39m=\u001b[39m \u001b[39mself\u001b[39m\u001b[39m.\u001b[39mrand_generator\u001b[39m.\u001b[39mrandint(\u001b[39mself\u001b[39m\u001b[39m.\u001b[39mnum_actions)\n",
      "\u001b[1;31mTypeError\u001b[0m: unhashable type: 'numpy.ndarray'"
     ]
    }
   ],
   "source": [
    "# initiate environment\n",
    "env = gym.make('TextFlappyBird-screen-v0', height = 15, width = 20, pipe_gap = 4)\n",
    "state = env.reset()\n",
    "\n",
    "# iterate\n",
    "while True:\n",
    "\n",
    "    clear_output(wait = True)\n",
    "\n",
    "    # Select next action\n",
    "    action = agent.policy(state) \n",
    "\n",
    "    # Appy action and return new observation of the environment\n",
    "    obs, reward, done, _, info = env.step(action)\n",
    "    state = (obs, info)\n",
    "\n",
    "    # Render the game\n",
    "    sys.stdout.write(env.render())\n",
    "    time.sleep(0.2) # FPS\n",
    "\n",
    "    # If player is dead break\n",
    "    if done:\n",
    "        break\n",
    "\n",
    "env.close()"
   ]
  },
  {
   "attachments": {},
   "cell_type": "markdown",
   "metadata": {},
   "source": [
    "We cannot use the same agent since the observation space is not the same. Instead of observing only its own position, the agent visualizes the whole environment.\n",
    "It is then required to train another agent taking into account this specificity. Having more information, this agent would then be better since it would be able to anticipate the next pipes."
   ]
  },
  {
   "attachments": {},
   "cell_type": "markdown",
   "metadata": {},
   "source": [
    "# Original game"
   ]
  },
  {
   "cell_type": "code",
   "execution_count": 15,
   "metadata": {},
   "outputs": [
    {
     "ename": "IndexError",
     "evalue": "invalid index to scalar variable.",
     "output_type": "error",
     "traceback": [
      "\u001b[1;31m---------------------------------------------------------------------------\u001b[0m",
      "\u001b[1;31mIndexError\u001b[0m                                Traceback (most recent call last)",
      "Cell \u001b[1;32mIn[15], line 9\u001b[0m\n\u001b[0;32m      5\u001b[0m obs \u001b[39m=\u001b[39m env\u001b[39m.\u001b[39mreset()\n\u001b[0;32m      6\u001b[0m \u001b[39mwhile\u001b[39;00m \u001b[39mTrue\u001b[39;00m:\n\u001b[0;32m      7\u001b[0m     \u001b[39m# Next action:\u001b[39;00m\n\u001b[0;32m      8\u001b[0m     \u001b[39m# (feed the observation to your agent here)\u001b[39;00m\n\u001b[1;32m----> 9\u001b[0m     action \u001b[39m=\u001b[39m agent\u001b[39m.\u001b[39;49mpolicy(obs) \n\u001b[0;32m     11\u001b[0m     \u001b[39m# Processing:\u001b[39;00m\n\u001b[0;32m     12\u001b[0m     obs, reward, done, info \u001b[39m=\u001b[39m env\u001b[39m.\u001b[39mstep(action)\n",
      "Cell \u001b[1;32mIn[2], line 85\u001b[0m, in \u001b[0;36mExpectedSarsaAgent.policy\u001b[1;34m(self, state)\u001b[0m\n\u001b[0;32m     76\u001b[0m \u001b[39m\u001b[39m\u001b[39m\"\"\"A step taken by the agent without updating action values\u001b[39;00m\n\u001b[0;32m     77\u001b[0m \u001b[39mArgs:\u001b[39;00m\n\u001b[0;32m     78\u001b[0m \u001b[39m    state (int): the state from the\u001b[39;00m\n\u001b[1;32m   (...)\u001b[0m\n\u001b[0;32m     82\u001b[0m \u001b[39m    action (int): the action the agent is taking.\u001b[39;00m\n\u001b[0;32m     83\u001b[0m \u001b[39m\"\"\"\u001b[39;00m\n\u001b[0;32m     84\u001b[0m \u001b[39m# Choose action using epsilon greedy.\u001b[39;00m\n\u001b[1;32m---> 85\u001b[0m current_q \u001b[39m=\u001b[39m \u001b[39mself\u001b[39m\u001b[39m.\u001b[39mq[state[\u001b[39m0\u001b[39;49m][\u001b[39m0\u001b[39;49m]][state[\u001b[39m0\u001b[39m][\u001b[39m1\u001b[39m]]\n\u001b[0;32m     86\u001b[0m \u001b[39mif\u001b[39;00m \u001b[39mself\u001b[39m\u001b[39m.\u001b[39mrand_generator\u001b[39m.\u001b[39mrand() \u001b[39m<\u001b[39m \u001b[39mself\u001b[39m\u001b[39m.\u001b[39mepsilon:\n\u001b[0;32m     87\u001b[0m     action \u001b[39m=\u001b[39m \u001b[39mself\u001b[39m\u001b[39m.\u001b[39mrand_generator\u001b[39m.\u001b[39mrandint(\u001b[39mself\u001b[39m\u001b[39m.\u001b[39mnum_actions)\n",
      "\u001b[1;31mIndexError\u001b[0m: invalid index to scalar variable."
     ]
    }
   ],
   "source": [
    "import time\n",
    "import flappy_bird_gym\n",
    "env = flappy_bird_gym.make(\"FlappyBird-v0\")\n",
    "\n",
    "obs = env.reset()\n",
    "while True:\n",
    "    # Next action:\n",
    "    # (feed the observation to your agent here)\n",
    "    action = agent.policy(obs) \n",
    "\n",
    "    # Processing:\n",
    "    obs, reward, done, info = env.step(action)\n",
    "    \n",
    "    # Rendering the game:\n",
    "    # (remove this two lines during training)\n",
    "    env.render()\n",
    "    time.sleep(1 / 30)  # FPS\n",
    "    \n",
    "    # Checking if the player is still alive\n",
    "    if done:\n",
    "        break\n",
    "\n",
    "env.close()"
   ]
  },
  {
   "attachments": {},
   "cell_type": "markdown",
   "metadata": {},
   "source": [
    "To implement our agent in this environment, we would need to apply a transformation to the observed state which is a couple of real coordinates to turn them as a couple of integers on the same scale as in `text-flappy-bird`"
   ]
  }
 ],
 "metadata": {
  "kernelspec": {
   "display_name": "base",
   "language": "python",
   "name": "python3"
  },
  "language_info": {
   "codemirror_mode": {
    "name": "ipython",
    "version": 3
   },
   "file_extension": ".py",
   "mimetype": "text/x-python",
   "name": "python",
   "nbconvert_exporter": "python",
   "pygments_lexer": "ipython3",
   "version": "3.9.16"
  },
  "orig_nbformat": 4
 },
 "nbformat": 4,
 "nbformat_minor": 2
}
