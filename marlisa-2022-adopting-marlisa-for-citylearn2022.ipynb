{
 "cells": [
  {
   "cell_type": "markdown",
   "metadata": {},
   "source": [
    "# CityLearn MARLISA 2022\n",
    "\n",
    "```\n",
    "Author: Chia E Tungom\n",
    "Email: bamtungom@protonmail.com\n",
    "Date: Aug-11-2022\n",
    "```\n",
    "\n",
    "In this Notebook we outline how the Multiagent Reinforcement Learning Algorithm MARLISA can be modified for the 2022 CityLearn Challenge.\n",
    "For details on how MARLISA works, refer to the [study]() and for the orignal implementation refer to the [CityLearn git repository](https://github.com/intelligent-environments-lab/CityLearn/blob/master/agents/marlisa.py).\n",
    "\n",
    "A brief of what the algorithm aims to achieve is a follows \n",
    "1. Implement a Multi-agent version of Soft-Actor Critic (SAC) algorithm\n",
    "    - Design a reward function with individual and collective goals\n",
    "    - Agents share information amongs each other using a leader-follower scheme\n",
    "        - Each building has it's own RL agent\n",
    "2. Use the algorithm to\n",
    "    - Plan and Control energy storage of a diverse set of buildings\n",
    "    - Aim to reshape the aggregated curve of electricity demand\n",
    "    - Decide how much heating and cooling is stored or released at any time\n",
    "3. Measure performance on the following metric\n",
    "    - Annual net electricity consumption in the district\n",
    "    - Average daily peak demand\n",
    "    - Annual peak demand \n",
    "    - Ramping \n",
    "\n",
    "Unlike the CityLearn environment where MARLISA was implemented in, the 2022 CityLearn Challenge environment has different environmnet features and optimization objective. \n",
    "In this Notebook we aim to show how MARLISA can be adapted to the 2022 CityLearn Challenge. We do so by doing the following \n",
    "1. Setting Up the CityLearn 2022 Environment\n",
    "2. Getting Building information (should be MARLISA compatible)\n",
    "3. Some Data Overview\n",
    "4. Generate Building State Actions requirements\n",
    "5. Outline Modifications of MARLISA code\n",
    "6. Run `MARLISA2022`\n",
    "\n",
    "__Note:__ I only aim to make it easier for those who want to get started with MARL(ISA)\n",
    "\n",
    "To Run this Notebook, you will need to have the started git repo with the following folder\n",
    "- Get the MARLISA python file from the [intelligent-environments-lab](https://github.com/intelligent-environments-lab/CityLearn/blob/master/agents/marlisa.py) git hub repo and place in the agents folder \n",
    "- Get the common folder from the [intelligent-environments-lab](https://github.com/intelligent-environments-lab/CityLearn/tree/master/common) and place in the root folder of ur starter git folder\n",
    "- Place this Notebook in the root folder as well\n",
    "- __YOU ARE GOOD TO GO !!!!__\n",
    "\n",
    "__This Notebook was made while listening to [MONALISA](https://www.youtube.com/watch?v=to8nQNGarRw). Enjoy!!! __\n",
    "\n",
    "__Lets Gooooooooooo!!!__"
   ]
  },
  {
   "cell_type": "markdown",
   "metadata": {},
   "source": [
    "## 1. Load Environment \n",
    "\n",
    "We beginning by setting Up our RL environment for CityLearn2022. Some of the code in this section  was  taken from the local evaluation python file in the starter kit repo"
   ]
  },
  {
   "cell_type": "code",
   "execution_count": 4,
   "metadata": {},
   "outputs": [],
   "source": [
    "# from citylearn import CityLearn\n",
    "# !pip3 install sklearn\n",
    "import matplotlib.pyplot as plt\n",
    "from pathlib import Path\n",
    "from agents.marlisa import MARLISA\n",
    "import numpy as np\n",
    "from tqdm import tqdm\n",
    "import time\n",
    "from citylearn.citylearn import CityLearnEnv\n",
    "\n",
    "# Custom configure enviroment \n",
    "class Constants:\n",
    "    episodes = 3\n",
    "    schema_path = './data/citylearn_challenge_2022_phase_1/schema.json'\n",
    "\n",
    "def action_space_to_dict(aspace):\n",
    "    \"\"\" Only for box space \"\"\"\n",
    "    return { \"high\": aspace.high,\n",
    "             \"low\": aspace.low,\n",
    "             \"shape\": aspace.shape,\n",
    "             \"dtype\": str(aspace.dtype)\n",
    "    }\n",
    "\n",
    "def env_reset(env):\n",
    "    observations = env.reset()\n",
    "    action_space = env.action_space\n",
    "    observation_space = env.observation_space\n",
    "    building_info = env.get_building_information()\n",
    "    building_info = list(building_info.values())\n",
    "    action_space_dicts = [action_space_to_dict(asp) for asp in action_space]\n",
    "    observation_space_dicts = [action_space_to_dict(osp) for osp in observation_space]\n",
    "    obs_dict = {\"action_space\": action_space_dicts,\n",
    "                \"observation_space\": observation_space_dicts,\n",
    "                \"building_info\": building_info,\n",
    "                \"observation\": observations }\n",
    "    return obs_dict\n",
    "\n",
    "env = CityLearnEnv(schema=Constants.schema_path)"
   ]
  },
  {
   "cell_type": "markdown",
   "metadata": {},
   "source": [
    "## 2. Get Building Information\n",
    "\n",
    "Building Information is needed as input in the MARLISA algorithm. Building information contains information like \n",
    "- A bildings solar power storage capacity\n",
    "- A buildings annual demand for cooling, heating  and dhw (deep hot water)\n",
    "- And other information\n",
    "\n",
    "To get building information, you can run the command `env.get_building_information()`. The information we get does not contain keys like Building_1 which as needed but rather some sequence of random letters and numbers. We make modifications to rename the buildings in the order they appear (I am not sure this renaming is proper and if you have an idea please leave a comment below).\n",
    "\n",
    "The Buildings are renamed the same way buildings are named in the CityLearn environment."
   ]
  },
  {
   "cell_type": "code",
   "execution_count": 5,
   "metadata": {},
   "outputs": [
    {
     "data": {
      "text/plain": [
       "{'solar_power': 4.0,\n",
       " 'annual_dhw_demand': 0.0,\n",
       " 'annual_cooling_demand': 0.0,\n",
       " 'annual_heating_demand': 0.0,\n",
       " 'annual_nonshiftable_electrical_demand': 10583.353,\n",
       " 'correlations_dhw': {'bee7157f8026471a9597ffb45faefe4f': nan,\n",
       "  '5d6c294e73f04d4795df499e0461f321': nan,\n",
       "  '095ede048de74a19ad1bfd2522478223': nan,\n",
       "  'a722699892aa4b13a0aa2cc8839ed0ff': nan},\n",
       " 'correlations_cooling_demand': {'bee7157f8026471a9597ffb45faefe4f': nan,\n",
       "  '5d6c294e73f04d4795df499e0461f321': nan,\n",
       "  '095ede048de74a19ad1bfd2522478223': nan,\n",
       "  'a722699892aa4b13a0aa2cc8839ed0ff': nan},\n",
       " 'correlations_heating_demand': {'bee7157f8026471a9597ffb45faefe4f': nan,\n",
       "  '5d6c294e73f04d4795df499e0461f321': nan,\n",
       "  '095ede048de74a19ad1bfd2522478223': nan,\n",
       "  'a722699892aa4b13a0aa2cc8839ed0ff': nan},\n",
       " 'correlations_non_shiftable_load': {'bee7157f8026471a9597ffb45faefe4f': 0.196,\n",
       "  '5d6c294e73f04d4795df499e0461f321': 0.192,\n",
       "  '095ede048de74a19ad1bfd2522478223': 0.166,\n",
       "  'a722699892aa4b13a0aa2cc8839ed0ff': 0.25}}"
      ]
     },
     "execution_count": 5,
     "metadata": {},
     "output_type": "execute_result"
    }
   ],
   "source": [
    "observations_spaces, actions_spaces = env.observation_space, env.action_space\n",
    "\n",
    "building_info = env.get_building_information()\n",
    "\n",
    "def RenameBuilding(Building_Info):\n",
    "    newB = {}\n",
    "    for i, building in enumerate(Building_Info):\n",
    "        newB[\"Building_\"+str(i+1)] = building_info[building]\n",
    "    return newB\n",
    "\n",
    "building_info = RenameBuilding(building_info)\n",
    "building_info['Building_1']"
   ]
  },
  {
   "cell_type": "markdown",
   "metadata": {},
   "source": [
    "## 3. A Look at Building Data\n",
    "\n",
    "Taking a Look at Building Data we see that the observations\n",
    "\n",
    "- `Indoor Temperature [C]`, `Average Unmet Cooling Setpoint Difference [C]` and `Indoor Relative Humidity [%]`: All have NaN values \t\n",
    "- `DHW Heating [kWh]`, `Cooling Load [kWh]` and `Heating Load [kWh]`: \tAll have values 0\n",
    "\n",
    "If this is the case when sampled in the environmet, we don't need this variables for learning a model as they don't provide any information about a building  or state.\n",
    "\n",
    "This is useful because inside MARLISA we can set which observations to be removed if need be"
   ]
  },
  {
   "cell_type": "code",
   "execution_count": 6,
   "metadata": {},
   "outputs": [
    {
     "data": {
      "application/vnd.plotly.v1+json": {
       "config": {
        "plotlyServerURL": "https://plot.ly"
       },
       "data": [
        {
         "alignmentgroup": "True",
         "hovertemplate": "color=Month<br>x=%{x}<br>y=%{y}<extra></extra>",
         "legendgroup": "Month",
         "marker": {
          "color": "#636efa",
          "pattern": {
           "shape": ""
          }
         },
         "name": "Month",
         "offsetgroup": "Month",
         "orientation": "v",
         "showlegend": true,
         "textposition": "auto",
         "type": "bar",
         "x": [
          "Month"
         ],
         "xaxis": "x",
         "y": [
          0
         ],
         "yaxis": "y"
        },
        {
         "alignmentgroup": "True",
         "hovertemplate": "color=Hour<br>x=%{x}<br>y=%{y}<extra></extra>",
         "legendgroup": "Hour",
         "marker": {
          "color": "#EF553B",
          "pattern": {
           "shape": ""
          }
         },
         "name": "Hour",
         "offsetgroup": "Hour",
         "orientation": "v",
         "showlegend": true,
         "textposition": "auto",
         "type": "bar",
         "x": [
          "Hour"
         ],
         "xaxis": "x",
         "y": [
          0
         ],
         "yaxis": "y"
        },
        {
         "alignmentgroup": "True",
         "hovertemplate": "color=Day Type<br>x=%{x}<br>y=%{y}<extra></extra>",
         "legendgroup": "Day Type",
         "marker": {
          "color": "#00cc96",
          "pattern": {
           "shape": ""
          }
         },
         "name": "Day Type",
         "offsetgroup": "Day Type",
         "orientation": "v",
         "showlegend": true,
         "textposition": "auto",
         "type": "bar",
         "x": [
          "Day Type"
         ],
         "xaxis": "x",
         "y": [
          0
         ],
         "yaxis": "y"
        },
        {
         "alignmentgroup": "True",
         "hovertemplate": "color=Daylight Savings Status<br>x=%{x}<br>y=%{y}<extra></extra>",
         "legendgroup": "Daylight Savings Status",
         "marker": {
          "color": "#ab63fa",
          "pattern": {
           "shape": ""
          }
         },
         "name": "Daylight Savings Status",
         "offsetgroup": "Daylight Savings Status",
         "orientation": "v",
         "showlegend": true,
         "textposition": "auto",
         "type": "bar",
         "x": [
          "Daylight Savings Status"
         ],
         "xaxis": "x",
         "y": [
          0
         ],
         "yaxis": "y"
        },
        {
         "alignmentgroup": "True",
         "hovertemplate": "color=Indoor Temperature [C]<br>x=%{x}<br>y=%{y}<extra></extra>",
         "legendgroup": "Indoor Temperature [C]",
         "marker": {
          "color": "#FFA15A",
          "pattern": {
           "shape": ""
          }
         },
         "name": "Indoor Temperature [C]",
         "offsetgroup": "Indoor Temperature [C]",
         "orientation": "v",
         "showlegend": true,
         "textposition": "auto",
         "type": "bar",
         "x": [
          "Indoor Temperature [C]"
         ],
         "xaxis": "x",
         "y": [
          8760
         ],
         "yaxis": "y"
        },
        {
         "alignmentgroup": "True",
         "hovertemplate": "color=Average Unmet Cooling Setpoint Difference [C]<br>x=%{x}<br>y=%{y}<extra></extra>",
         "legendgroup": "Average Unmet Cooling Setpoint Difference [C]",
         "marker": {
          "color": "#19d3f3",
          "pattern": {
           "shape": ""
          }
         },
         "name": "Average Unmet Cooling Setpoint Difference [C]",
         "offsetgroup": "Average Unmet Cooling Setpoint Difference [C]",
         "orientation": "v",
         "showlegend": true,
         "textposition": "auto",
         "type": "bar",
         "x": [
          "Average Unmet Cooling Setpoint Difference [C]"
         ],
         "xaxis": "x",
         "y": [
          8760
         ],
         "yaxis": "y"
        },
        {
         "alignmentgroup": "True",
         "hovertemplate": "color=Indoor Relative Humidity [%]<br>x=%{x}<br>y=%{y}<extra></extra>",
         "legendgroup": "Indoor Relative Humidity [%]",
         "marker": {
          "color": "#FF6692",
          "pattern": {
           "shape": ""
          }
         },
         "name": "Indoor Relative Humidity [%]",
         "offsetgroup": "Indoor Relative Humidity [%]",
         "orientation": "v",
         "showlegend": true,
         "textposition": "auto",
         "type": "bar",
         "x": [
          "Indoor Relative Humidity [%]"
         ],
         "xaxis": "x",
         "y": [
          8760
         ],
         "yaxis": "y"
        },
        {
         "alignmentgroup": "True",
         "hovertemplate": "color=Equipment Electric Power [kWh]<br>x=%{x}<br>y=%{y}<extra></extra>",
         "legendgroup": "Equipment Electric Power [kWh]",
         "marker": {
          "color": "#B6E880",
          "pattern": {
           "shape": ""
          }
         },
         "name": "Equipment Electric Power [kWh]",
         "offsetgroup": "Equipment Electric Power [kWh]",
         "orientation": "v",
         "showlegend": true,
         "textposition": "auto",
         "type": "bar",
         "x": [
          "Equipment Electric Power [kWh]"
         ],
         "xaxis": "x",
         "y": [
          0
         ],
         "yaxis": "y"
        },
        {
         "alignmentgroup": "True",
         "hovertemplate": "color=DHW Heating [kWh]<br>x=%{x}<br>y=%{y}<extra></extra>",
         "legendgroup": "DHW Heating [kWh]",
         "marker": {
          "color": "#FF97FF",
          "pattern": {
           "shape": ""
          }
         },
         "name": "DHW Heating [kWh]",
         "offsetgroup": "DHW Heating [kWh]",
         "orientation": "v",
         "showlegend": true,
         "textposition": "auto",
         "type": "bar",
         "x": [
          "DHW Heating [kWh]"
         ],
         "xaxis": "x",
         "y": [
          0
         ],
         "yaxis": "y"
        },
        {
         "alignmentgroup": "True",
         "hovertemplate": "color=Cooling Load [kWh]<br>x=%{x}<br>y=%{y}<extra></extra>",
         "legendgroup": "Cooling Load [kWh]",
         "marker": {
          "color": "#FECB52",
          "pattern": {
           "shape": ""
          }
         },
         "name": "Cooling Load [kWh]",
         "offsetgroup": "Cooling Load [kWh]",
         "orientation": "v",
         "showlegend": true,
         "textposition": "auto",
         "type": "bar",
         "x": [
          "Cooling Load [kWh]"
         ],
         "xaxis": "x",
         "y": [
          0
         ],
         "yaxis": "y"
        },
        {
         "alignmentgroup": "True",
         "hovertemplate": "color=Heating Load [kWh]<br>x=%{x}<br>y=%{y}<extra></extra>",
         "legendgroup": "Heating Load [kWh]",
         "marker": {
          "color": "#636efa",
          "pattern": {
           "shape": ""
          }
         },
         "name": "Heating Load [kWh]",
         "offsetgroup": "Heating Load [kWh]",
         "orientation": "v",
         "showlegend": true,
         "textposition": "auto",
         "type": "bar",
         "x": [
          "Heating Load [kWh]"
         ],
         "xaxis": "x",
         "y": [
          0
         ],
         "yaxis": "y"
        },
        {
         "alignmentgroup": "True",
         "hovertemplate": "color=Solar Generation [W/kW]<br>x=%{x}<br>y=%{y}<extra></extra>",
         "legendgroup": "Solar Generation [W/kW]",
         "marker": {
          "color": "#EF553B",
          "pattern": {
           "shape": ""
          }
         },
         "name": "Solar Generation [W/kW]",
         "offsetgroup": "Solar Generation [W/kW]",
         "orientation": "v",
         "showlegend": true,
         "textposition": "auto",
         "type": "bar",
         "x": [
          "Solar Generation [W/kW]"
         ],
         "xaxis": "x",
         "y": [
          0
         ],
         "yaxis": "y"
        }
       ],
       "layout": {
        "barmode": "relative",
        "legend": {
         "title": {
          "text": "color"
         },
         "tracegroupgap": 0
        },
        "template": {
         "data": {
          "bar": [
           {
            "error_x": {
             "color": "#2a3f5f"
            },
            "error_y": {
             "color": "#2a3f5f"
            },
            "marker": {
             "line": {
              "color": "#E5ECF6",
              "width": 0.5
             },
             "pattern": {
              "fillmode": "overlay",
              "size": 10,
              "solidity": 0.2
             }
            },
            "type": "bar"
           }
          ],
          "barpolar": [
           {
            "marker": {
             "line": {
              "color": "#E5ECF6",
              "width": 0.5
             },
             "pattern": {
              "fillmode": "overlay",
              "size": 10,
              "solidity": 0.2
             }
            },
            "type": "barpolar"
           }
          ],
          "carpet": [
           {
            "aaxis": {
             "endlinecolor": "#2a3f5f",
             "gridcolor": "white",
             "linecolor": "white",
             "minorgridcolor": "white",
             "startlinecolor": "#2a3f5f"
            },
            "baxis": {
             "endlinecolor": "#2a3f5f",
             "gridcolor": "white",
             "linecolor": "white",
             "minorgridcolor": "white",
             "startlinecolor": "#2a3f5f"
            },
            "type": "carpet"
           }
          ],
          "choropleth": [
           {
            "colorbar": {
             "outlinewidth": 0,
             "ticks": ""
            },
            "type": "choropleth"
           }
          ],
          "contour": [
           {
            "colorbar": {
             "outlinewidth": 0,
             "ticks": ""
            },
            "colorscale": [
             [
              0,
              "#0d0887"
             ],
             [
              0.1111111111111111,
              "#46039f"
             ],
             [
              0.2222222222222222,
              "#7201a8"
             ],
             [
              0.3333333333333333,
              "#9c179e"
             ],
             [
              0.4444444444444444,
              "#bd3786"
             ],
             [
              0.5555555555555556,
              "#d8576b"
             ],
             [
              0.6666666666666666,
              "#ed7953"
             ],
             [
              0.7777777777777778,
              "#fb9f3a"
             ],
             [
              0.8888888888888888,
              "#fdca26"
             ],
             [
              1,
              "#f0f921"
             ]
            ],
            "type": "contour"
           }
          ],
          "contourcarpet": [
           {
            "colorbar": {
             "outlinewidth": 0,
             "ticks": ""
            },
            "type": "contourcarpet"
           }
          ],
          "heatmap": [
           {
            "colorbar": {
             "outlinewidth": 0,
             "ticks": ""
            },
            "colorscale": [
             [
              0,
              "#0d0887"
             ],
             [
              0.1111111111111111,
              "#46039f"
             ],
             [
              0.2222222222222222,
              "#7201a8"
             ],
             [
              0.3333333333333333,
              "#9c179e"
             ],
             [
              0.4444444444444444,
              "#bd3786"
             ],
             [
              0.5555555555555556,
              "#d8576b"
             ],
             [
              0.6666666666666666,
              "#ed7953"
             ],
             [
              0.7777777777777778,
              "#fb9f3a"
             ],
             [
              0.8888888888888888,
              "#fdca26"
             ],
             [
              1,
              "#f0f921"
             ]
            ],
            "type": "heatmap"
           }
          ],
          "heatmapgl": [
           {
            "colorbar": {
             "outlinewidth": 0,
             "ticks": ""
            },
            "colorscale": [
             [
              0,
              "#0d0887"
             ],
             [
              0.1111111111111111,
              "#46039f"
             ],
             [
              0.2222222222222222,
              "#7201a8"
             ],
             [
              0.3333333333333333,
              "#9c179e"
             ],
             [
              0.4444444444444444,
              "#bd3786"
             ],
             [
              0.5555555555555556,
              "#d8576b"
             ],
             [
              0.6666666666666666,
              "#ed7953"
             ],
             [
              0.7777777777777778,
              "#fb9f3a"
             ],
             [
              0.8888888888888888,
              "#fdca26"
             ],
             [
              1,
              "#f0f921"
             ]
            ],
            "type": "heatmapgl"
           }
          ],
          "histogram": [
           {
            "marker": {
             "pattern": {
              "fillmode": "overlay",
              "size": 10,
              "solidity": 0.2
             }
            },
            "type": "histogram"
           }
          ],
          "histogram2d": [
           {
            "colorbar": {
             "outlinewidth": 0,
             "ticks": ""
            },
            "colorscale": [
             [
              0,
              "#0d0887"
             ],
             [
              0.1111111111111111,
              "#46039f"
             ],
             [
              0.2222222222222222,
              "#7201a8"
             ],
             [
              0.3333333333333333,
              "#9c179e"
             ],
             [
              0.4444444444444444,
              "#bd3786"
             ],
             [
              0.5555555555555556,
              "#d8576b"
             ],
             [
              0.6666666666666666,
              "#ed7953"
             ],
             [
              0.7777777777777778,
              "#fb9f3a"
             ],
             [
              0.8888888888888888,
              "#fdca26"
             ],
             [
              1,
              "#f0f921"
             ]
            ],
            "type": "histogram2d"
           }
          ],
          "histogram2dcontour": [
           {
            "colorbar": {
             "outlinewidth": 0,
             "ticks": ""
            },
            "colorscale": [
             [
              0,
              "#0d0887"
             ],
             [
              0.1111111111111111,
              "#46039f"
             ],
             [
              0.2222222222222222,
              "#7201a8"
             ],
             [
              0.3333333333333333,
              "#9c179e"
             ],
             [
              0.4444444444444444,
              "#bd3786"
             ],
             [
              0.5555555555555556,
              "#d8576b"
             ],
             [
              0.6666666666666666,
              "#ed7953"
             ],
             [
              0.7777777777777778,
              "#fb9f3a"
             ],
             [
              0.8888888888888888,
              "#fdca26"
             ],
             [
              1,
              "#f0f921"
             ]
            ],
            "type": "histogram2dcontour"
           }
          ],
          "mesh3d": [
           {
            "colorbar": {
             "outlinewidth": 0,
             "ticks": ""
            },
            "type": "mesh3d"
           }
          ],
          "parcoords": [
           {
            "line": {
             "colorbar": {
              "outlinewidth": 0,
              "ticks": ""
             }
            },
            "type": "parcoords"
           }
          ],
          "pie": [
           {
            "automargin": true,
            "type": "pie"
           }
          ],
          "scatter": [
           {
            "fillpattern": {
             "fillmode": "overlay",
             "size": 10,
             "solidity": 0.2
            },
            "type": "scatter"
           }
          ],
          "scatter3d": [
           {
            "line": {
             "colorbar": {
              "outlinewidth": 0,
              "ticks": ""
             }
            },
            "marker": {
             "colorbar": {
              "outlinewidth": 0,
              "ticks": ""
             }
            },
            "type": "scatter3d"
           }
          ],
          "scattercarpet": [
           {
            "marker": {
             "colorbar": {
              "outlinewidth": 0,
              "ticks": ""
             }
            },
            "type": "scattercarpet"
           }
          ],
          "scattergeo": [
           {
            "marker": {
             "colorbar": {
              "outlinewidth": 0,
              "ticks": ""
             }
            },
            "type": "scattergeo"
           }
          ],
          "scattergl": [
           {
            "marker": {
             "colorbar": {
              "outlinewidth": 0,
              "ticks": ""
             }
            },
            "type": "scattergl"
           }
          ],
          "scattermapbox": [
           {
            "marker": {
             "colorbar": {
              "outlinewidth": 0,
              "ticks": ""
             }
            },
            "type": "scattermapbox"
           }
          ],
          "scatterpolar": [
           {
            "marker": {
             "colorbar": {
              "outlinewidth": 0,
              "ticks": ""
             }
            },
            "type": "scatterpolar"
           }
          ],
          "scatterpolargl": [
           {
            "marker": {
             "colorbar": {
              "outlinewidth": 0,
              "ticks": ""
             }
            },
            "type": "scatterpolargl"
           }
          ],
          "scatterternary": [
           {
            "marker": {
             "colorbar": {
              "outlinewidth": 0,
              "ticks": ""
             }
            },
            "type": "scatterternary"
           }
          ],
          "surface": [
           {
            "colorbar": {
             "outlinewidth": 0,
             "ticks": ""
            },
            "colorscale": [
             [
              0,
              "#0d0887"
             ],
             [
              0.1111111111111111,
              "#46039f"
             ],
             [
              0.2222222222222222,
              "#7201a8"
             ],
             [
              0.3333333333333333,
              "#9c179e"
             ],
             [
              0.4444444444444444,
              "#bd3786"
             ],
             [
              0.5555555555555556,
              "#d8576b"
             ],
             [
              0.6666666666666666,
              "#ed7953"
             ],
             [
              0.7777777777777778,
              "#fb9f3a"
             ],
             [
              0.8888888888888888,
              "#fdca26"
             ],
             [
              1,
              "#f0f921"
             ]
            ],
            "type": "surface"
           }
          ],
          "table": [
           {
            "cells": {
             "fill": {
              "color": "#EBF0F8"
             },
             "line": {
              "color": "white"
             }
            },
            "header": {
             "fill": {
              "color": "#C8D4E3"
             },
             "line": {
              "color": "white"
             }
            },
            "type": "table"
           }
          ]
         },
         "layout": {
          "annotationdefaults": {
           "arrowcolor": "#2a3f5f",
           "arrowhead": 0,
           "arrowwidth": 1
          },
          "autotypenumbers": "strict",
          "coloraxis": {
           "colorbar": {
            "outlinewidth": 0,
            "ticks": ""
           }
          },
          "colorscale": {
           "diverging": [
            [
             0,
             "#8e0152"
            ],
            [
             0.1,
             "#c51b7d"
            ],
            [
             0.2,
             "#de77ae"
            ],
            [
             0.3,
             "#f1b6da"
            ],
            [
             0.4,
             "#fde0ef"
            ],
            [
             0.5,
             "#f7f7f7"
            ],
            [
             0.6,
             "#e6f5d0"
            ],
            [
             0.7,
             "#b8e186"
            ],
            [
             0.8,
             "#7fbc41"
            ],
            [
             0.9,
             "#4d9221"
            ],
            [
             1,
             "#276419"
            ]
           ],
           "sequential": [
            [
             0,
             "#0d0887"
            ],
            [
             0.1111111111111111,
             "#46039f"
            ],
            [
             0.2222222222222222,
             "#7201a8"
            ],
            [
             0.3333333333333333,
             "#9c179e"
            ],
            [
             0.4444444444444444,
             "#bd3786"
            ],
            [
             0.5555555555555556,
             "#d8576b"
            ],
            [
             0.6666666666666666,
             "#ed7953"
            ],
            [
             0.7777777777777778,
             "#fb9f3a"
            ],
            [
             0.8888888888888888,
             "#fdca26"
            ],
            [
             1,
             "#f0f921"
            ]
           ],
           "sequentialminus": [
            [
             0,
             "#0d0887"
            ],
            [
             0.1111111111111111,
             "#46039f"
            ],
            [
             0.2222222222222222,
             "#7201a8"
            ],
            [
             0.3333333333333333,
             "#9c179e"
            ],
            [
             0.4444444444444444,
             "#bd3786"
            ],
            [
             0.5555555555555556,
             "#d8576b"
            ],
            [
             0.6666666666666666,
             "#ed7953"
            ],
            [
             0.7777777777777778,
             "#fb9f3a"
            ],
            [
             0.8888888888888888,
             "#fdca26"
            ],
            [
             1,
             "#f0f921"
            ]
           ]
          },
          "colorway": [
           "#636efa",
           "#EF553B",
           "#00cc96",
           "#ab63fa",
           "#FFA15A",
           "#19d3f3",
           "#FF6692",
           "#B6E880",
           "#FF97FF",
           "#FECB52"
          ],
          "font": {
           "color": "#2a3f5f"
          },
          "geo": {
           "bgcolor": "white",
           "lakecolor": "white",
           "landcolor": "#E5ECF6",
           "showlakes": true,
           "showland": true,
           "subunitcolor": "white"
          },
          "hoverlabel": {
           "align": "left"
          },
          "hovermode": "closest",
          "mapbox": {
           "style": "light"
          },
          "paper_bgcolor": "white",
          "plot_bgcolor": "#E5ECF6",
          "polar": {
           "angularaxis": {
            "gridcolor": "white",
            "linecolor": "white",
            "ticks": ""
           },
           "bgcolor": "#E5ECF6",
           "radialaxis": {
            "gridcolor": "white",
            "linecolor": "white",
            "ticks": ""
           }
          },
          "scene": {
           "xaxis": {
            "backgroundcolor": "#E5ECF6",
            "gridcolor": "white",
            "gridwidth": 2,
            "linecolor": "white",
            "showbackground": true,
            "ticks": "",
            "zerolinecolor": "white"
           },
           "yaxis": {
            "backgroundcolor": "#E5ECF6",
            "gridcolor": "white",
            "gridwidth": 2,
            "linecolor": "white",
            "showbackground": true,
            "ticks": "",
            "zerolinecolor": "white"
           },
           "zaxis": {
            "backgroundcolor": "#E5ECF6",
            "gridcolor": "white",
            "gridwidth": 2,
            "linecolor": "white",
            "showbackground": true,
            "ticks": "",
            "zerolinecolor": "white"
           }
          },
          "shapedefaults": {
           "line": {
            "color": "#2a3f5f"
           }
          },
          "ternary": {
           "aaxis": {
            "gridcolor": "white",
            "linecolor": "white",
            "ticks": ""
           },
           "baxis": {
            "gridcolor": "white",
            "linecolor": "white",
            "ticks": ""
           },
           "bgcolor": "#E5ECF6",
           "caxis": {
            "gridcolor": "white",
            "linecolor": "white",
            "ticks": ""
           }
          },
          "title": {
           "x": 0.05
          },
          "xaxis": {
           "automargin": true,
           "gridcolor": "white",
           "linecolor": "white",
           "ticks": "",
           "title": {
            "standoff": 15
           },
           "zerolinecolor": "white",
           "zerolinewidth": 2
          },
          "yaxis": {
           "automargin": true,
           "gridcolor": "white",
           "linecolor": "white",
           "ticks": "",
           "title": {
            "standoff": 15
           },
           "zerolinecolor": "white",
           "zerolinewidth": 2
          }
         }
        },
        "title": {
         "text": "Count of Missing Data"
        },
        "xaxis": {
         "anchor": "y",
         "domain": [
          0,
          1
         ],
         "title": {
          "text": "x"
         }
        },
        "yaxis": {
         "anchor": "x",
         "domain": [
          0,
          1
         ],
         "title": {
          "text": "y"
         }
        }
       }
      }
     },
     "metadata": {},
     "output_type": "display_data"
    }
   ],
   "source": [
    "import pandas as pd\n",
    "import plotly.express as px\n",
    "\n",
    "data = pd.read_csv('data/citylearn_challenge_2022_phase_1/Building_1.csv')\n",
    "Missing = data.isnull().sum()\n",
    "\n",
    "long_df = px.data.medals_long()\n",
    " \n",
    "fig = px.bar(x = Missing.index, y = Missing.values,\n",
    "             color = Missing.index, title = \"Count of Missing Data\")\n",
    "fig.show()"
   ]
  },
  {
   "cell_type": "code",
   "execution_count": 7,
   "metadata": {},
   "outputs": [
    {
     "data": {
      "text/html": [
       "<div>\n",
       "<style scoped>\n",
       "    .dataframe tbody tr th:only-of-type {\n",
       "        vertical-align: middle;\n",
       "    }\n",
       "\n",
       "    .dataframe tbody tr th {\n",
       "        vertical-align: top;\n",
       "    }\n",
       "\n",
       "    .dataframe thead th {\n",
       "        text-align: right;\n",
       "    }\n",
       "</style>\n",
       "<table border=\"1\" class=\"dataframe\">\n",
       "  <thead>\n",
       "    <tr style=\"text-align: right;\">\n",
       "      <th></th>\n",
       "      <th>Month</th>\n",
       "      <th>Hour</th>\n",
       "      <th>Day Type</th>\n",
       "      <th>Daylight Savings Status</th>\n",
       "      <th>Indoor Temperature [C]</th>\n",
       "      <th>Average Unmet Cooling Setpoint Difference [C]</th>\n",
       "      <th>Indoor Relative Humidity [%]</th>\n",
       "      <th>Equipment Electric Power [kWh]</th>\n",
       "      <th>DHW Heating [kWh]</th>\n",
       "      <th>Cooling Load [kWh]</th>\n",
       "      <th>Heating Load [kWh]</th>\n",
       "      <th>Solar Generation [W/kW]</th>\n",
       "    </tr>\n",
       "  </thead>\n",
       "  <tbody>\n",
       "    <tr>\n",
       "      <th>count</th>\n",
       "      <td>8760.000000</td>\n",
       "      <td>8760.000000</td>\n",
       "      <td>8760.000000</td>\n",
       "      <td>8760.0</td>\n",
       "      <td>0.0</td>\n",
       "      <td>0.0</td>\n",
       "      <td>0.0</td>\n",
       "      <td>8760.000000</td>\n",
       "      <td>8760.0</td>\n",
       "      <td>8760.0</td>\n",
       "      <td>8760.0</td>\n",
       "      <td>8760.000000</td>\n",
       "    </tr>\n",
       "    <tr>\n",
       "      <th>mean</th>\n",
       "      <td>6.526027</td>\n",
       "      <td>12.500000</td>\n",
       "      <td>3.992466</td>\n",
       "      <td>0.0</td>\n",
       "      <td>NaN</td>\n",
       "      <td>NaN</td>\n",
       "      <td>NaN</td>\n",
       "      <td>1.208145</td>\n",
       "      <td>0.0</td>\n",
       "      <td>0.0</td>\n",
       "      <td>0.0</td>\n",
       "      <td>205.836089</td>\n",
       "    </tr>\n",
       "    <tr>\n",
       "      <th>std</th>\n",
       "      <td>3.448048</td>\n",
       "      <td>6.922582</td>\n",
       "      <td>2.003522</td>\n",
       "      <td>0.0</td>\n",
       "      <td>NaN</td>\n",
       "      <td>NaN</td>\n",
       "      <td>NaN</td>\n",
       "      <td>0.968270</td>\n",
       "      <td>0.0</td>\n",
       "      <td>0.0</td>\n",
       "      <td>0.0</td>\n",
       "      <td>290.977786</td>\n",
       "    </tr>\n",
       "    <tr>\n",
       "      <th>min</th>\n",
       "      <td>1.000000</td>\n",
       "      <td>1.000000</td>\n",
       "      <td>1.000000</td>\n",
       "      <td>0.0</td>\n",
       "      <td>NaN</td>\n",
       "      <td>NaN</td>\n",
       "      <td>NaN</td>\n",
       "      <td>0.057000</td>\n",
       "      <td>0.0</td>\n",
       "      <td>0.0</td>\n",
       "      <td>0.0</td>\n",
       "      <td>0.000000</td>\n",
       "    </tr>\n",
       "    <tr>\n",
       "      <th>25%</th>\n",
       "      <td>4.000000</td>\n",
       "      <td>6.750000</td>\n",
       "      <td>2.000000</td>\n",
       "      <td>0.0</td>\n",
       "      <td>NaN</td>\n",
       "      <td>NaN</td>\n",
       "      <td>NaN</td>\n",
       "      <td>0.570167</td>\n",
       "      <td>0.0</td>\n",
       "      <td>0.0</td>\n",
       "      <td>0.0</td>\n",
       "      <td>0.000000</td>\n",
       "    </tr>\n",
       "    <tr>\n",
       "      <th>50%</th>\n",
       "      <td>7.000000</td>\n",
       "      <td>12.500000</td>\n",
       "      <td>4.000000</td>\n",
       "      <td>0.0</td>\n",
       "      <td>NaN</td>\n",
       "      <td>NaN</td>\n",
       "      <td>NaN</td>\n",
       "      <td>0.812079</td>\n",
       "      <td>0.0</td>\n",
       "      <td>0.0</td>\n",
       "      <td>0.0</td>\n",
       "      <td>0.000000</td>\n",
       "    </tr>\n",
       "    <tr>\n",
       "      <th>75%</th>\n",
       "      <td>10.000000</td>\n",
       "      <td>18.250000</td>\n",
       "      <td>6.000000</td>\n",
       "      <td>0.0</td>\n",
       "      <td>NaN</td>\n",
       "      <td>NaN</td>\n",
       "      <td>NaN</td>\n",
       "      <td>1.530529</td>\n",
       "      <td>0.0</td>\n",
       "      <td>0.0</td>\n",
       "      <td>0.0</td>\n",
       "      <td>412.108333</td>\n",
       "    </tr>\n",
       "    <tr>\n",
       "      <th>max</th>\n",
       "      <td>12.000000</td>\n",
       "      <td>24.000000</td>\n",
       "      <td>7.000000</td>\n",
       "      <td>0.0</td>\n",
       "      <td>NaN</td>\n",
       "      <td>NaN</td>\n",
       "      <td>NaN</td>\n",
       "      <td>7.987483</td>\n",
       "      <td>0.0</td>\n",
       "      <td>0.0</td>\n",
       "      <td>0.0</td>\n",
       "      <td>976.250000</td>\n",
       "    </tr>\n",
       "  </tbody>\n",
       "</table>\n",
       "</div>"
      ],
      "text/plain": [
       "             Month         Hour     Day Type  Daylight Savings Status  \\\n",
       "count  8760.000000  8760.000000  8760.000000                   8760.0   \n",
       "mean      6.526027    12.500000     3.992466                      0.0   \n",
       "std       3.448048     6.922582     2.003522                      0.0   \n",
       "min       1.000000     1.000000     1.000000                      0.0   \n",
       "25%       4.000000     6.750000     2.000000                      0.0   \n",
       "50%       7.000000    12.500000     4.000000                      0.0   \n",
       "75%      10.000000    18.250000     6.000000                      0.0   \n",
       "max      12.000000    24.000000     7.000000                      0.0   \n",
       "\n",
       "       Indoor Temperature [C]  Average Unmet Cooling Setpoint Difference [C]  \\\n",
       "count                     0.0                                            0.0   \n",
       "mean                      NaN                                            NaN   \n",
       "std                       NaN                                            NaN   \n",
       "min                       NaN                                            NaN   \n",
       "25%                       NaN                                            NaN   \n",
       "50%                       NaN                                            NaN   \n",
       "75%                       NaN                                            NaN   \n",
       "max                       NaN                                            NaN   \n",
       "\n",
       "       Indoor Relative Humidity [%]  Equipment Electric Power [kWh]  \\\n",
       "count                           0.0                     8760.000000   \n",
       "mean                            NaN                        1.208145   \n",
       "std                             NaN                        0.968270   \n",
       "min                             NaN                        0.057000   \n",
       "25%                             NaN                        0.570167   \n",
       "50%                             NaN                        0.812079   \n",
       "75%                             NaN                        1.530529   \n",
       "max                             NaN                        7.987483   \n",
       "\n",
       "       DHW Heating [kWh]  Cooling Load [kWh]  Heating Load [kWh]  \\\n",
       "count             8760.0              8760.0              8760.0   \n",
       "mean                 0.0                 0.0                 0.0   \n",
       "std                  0.0                 0.0                 0.0   \n",
       "min                  0.0                 0.0                 0.0   \n",
       "25%                  0.0                 0.0                 0.0   \n",
       "50%                  0.0                 0.0                 0.0   \n",
       "75%                  0.0                 0.0                 0.0   \n",
       "max                  0.0                 0.0                 0.0   \n",
       "\n",
       "       Solar Generation [W/kW]  \n",
       "count              8760.000000  \n",
       "mean                205.836089  \n",
       "std                 290.977786  \n",
       "min                   0.000000  \n",
       "25%                   0.000000  \n",
       "50%                   0.000000  \n",
       "75%                 412.108333  \n",
       "max                 976.250000  "
      ]
     },
     "execution_count": 7,
     "metadata": {},
     "output_type": "execute_result"
    }
   ],
   "source": [
    "data.describe()"
   ]
  },
  {
   "cell_type": "markdown",
   "metadata": {},
   "source": [
    "## 4. Generate Building States  Action Requirements \n",
    "\n",
    "This is an input to the MARLISA algorithm and is used to determine which states or actions are needed for each building. Unlike in the 2020 MARLISA where a buildings requirements file is nicely provided, the information in the 2022 challenge is in the schema.json file. The Requirements for each building state and action is provided (I assume it is same for all buildings) but we need to  modify it for our inpute to suit the algorithm. \n",
    "\n",
    "In the file a state with value True means it's required  for the given building and an action with value True means that action needs to be taken for that building and False otherwise.\n",
    "\n",
    "We see that only action `electrial storage` is needed.\n",
    "\n",
    "__NOTE: The order  of  the states is same as the order of the observations i.e if month is first then in observation it's in index 0. e.g Hour comes third which mean it's found in index 2__: \n",
    "\n",
    "After generating the file, you can save it in Json format for usage as input or give to your algorithm in the dictionary format. Here we use the later. If you use the later, comment `line [37-38]` where the file is read in."
   ]
  },
  {
   "cell_type": "code",
   "execution_count": 8,
   "metadata": {},
   "outputs": [
    {
     "data": {
      "text/plain": [
       "{'month': True,\n",
       " 'day_type': True,\n",
       " 'hour': True,\n",
       " 'outdoor_dry_bulb_temperature': True,\n",
       " 'outdoor_dry_bulb_temperature_predicted_6h': True,\n",
       " 'outdoor_dry_bulb_temperature_predicted_12h': True,\n",
       " 'outdoor_dry_bulb_temperature_predicted_24h': True,\n",
       " 'outdoor_relative_humidity': True,\n",
       " 'outdoor_relative_humidity_predicted_6h': True,\n",
       " 'outdoor_relative_humidity_predicted_12h': True,\n",
       " 'outdoor_relative_humidity_predicted_24h': True,\n",
       " 'diffuse_solar_irradiance': True,\n",
       " 'diffuse_solar_irradiance_predicted_6h': True,\n",
       " 'diffuse_solar_irradiance_predicted_12h': True,\n",
       " 'diffuse_solar_irradiance_predicted_24h': True,\n",
       " 'direct_solar_irradiance': True,\n",
       " 'direct_solar_irradiance_predicted_6h': True,\n",
       " 'direct_solar_irradiance_predicted_12h': True,\n",
       " 'direct_solar_irradiance_predicted_24h': True,\n",
       " 'carbon_intensity': True,\n",
       " 'non_shiftable_load': True,\n",
       " 'solar_generation': True,\n",
       " 'electrical_storage_soc': True,\n",
       " 'net_electricity_consumption': True,\n",
       " 'electricity_pricing': True,\n",
       " 'electricity_pricing_predicted_6h': True,\n",
       " 'electricity_pricing_predicted_12h': True,\n",
       " 'electricity_pricing_predicted_24h': True}"
      ]
     },
     "execution_count": 8,
     "metadata": {},
     "output_type": "execute_result"
    }
   ],
   "source": [
    "import json\n",
    "\n",
    "def GenStateActionFromJson(JsonPath, BuildingCount = 5):\n",
    "\n",
    "    with open(JsonPath) as json_file:\n",
    "        buildings_states_actions = json.load(json_file)\n",
    "\n",
    "    States = buildings_states_actions['observations']\n",
    "    Actions = buildings_states_actions['actions']\n",
    "\n",
    "    StateINFo = {}\n",
    "    ActionINFo = {}\n",
    "    INFos = {}\n",
    "    \n",
    "    for var, ins in States.items():\n",
    "        #print(var, \" <><> \", ins)\n",
    "        if ins['active']:\n",
    "            StateINFo[var] = ins['active']\n",
    "    for act, ins  in Actions.items():\n",
    "        if ins['active']:\n",
    "            ActionINFo[act] = ins['active']\n",
    "\n",
    "    INFos[\"states\"] = StateINFo\n",
    "    INFos[\"action\"] = ActionINFo\n",
    "\n",
    "    return {\"Building_\" + str(key): INFos for key in range(1,BuildingCount+1)}\n",
    "\n",
    "\n",
    "JsonFile = 'data/citylearn_challenge_2022_phase_1/schema.json'\n",
    "BuildingsStatesActions = GenStateActionFromJson(JsonFile, BuildingCount = 5)\n",
    "bsa = json.dumps(BuildingsStatesActions)\n",
    "\n",
    "BuildingsStatesActions[\"Building_1\"][\"states\"]"
   ]
  },
  {
   "cell_type": "markdown",
   "metadata": {},
   "source": [
    "## 5. Internal MARLISA Modification\n",
    "\n",
    "MARLISA CODE Tips for modification for 2022 challenge\n",
    "\n",
    "### 5.1. Initialization (__init__ body) \n",
    "\n",
    "`[Line 58 to 65]` abstract information to individual buildings\n",
    "\n",
    "`[Line 75-83]` Energy size coefficient for every building (Not Needed in 2022)\n",
    "\n",
    "`[Line 86-111]` __Define Encoder__: Set Regression Learner for every building, define Encoding for every observation (think of it as data column) and set target variable to be removed __MODIFY ACCORDING TO THE CURRENT DATASET__\n",
    "\n",
    "`[Line 131-145]` __Define Regression Encoder__: for transforming states in regression model __MODIFY ACCORDING TO THE CURRENT DATASET__\n",
    "\n",
    "`[Line 149-164]` __Solar Capacity (remove variables if no solar PV)__: removes solar radiation related variables for houses without PV __COMMENT THIS SECTION__\n",
    "\n",
    "\n",
    "### 5.2. Select Action (MARLISA method or function)\n",
    "\n",
    "- Takes as inputs `states` and `deterministic`\n",
    "    - `states`: the states of the buildings\n",
    "    - `deterministic`: boolean can be true or false\n",
    "\n",
    "`**[Line 222-226]` __Initialize coordination variables__: coordination variables are two dimesional for every building. __MODIFY ACCORDING TO THE CURRENT DATASET (in 2022 we are asked to optimize for electricty cost and carbon emission)__\n",
    "- `Capacity  Dispatched:` This is the toal amont of electricity already dispatched. it is related to the energy size coefficient at every time step\n",
    "- `**Electrical Demand`: Related to the total electricty demand estimated by a prediction algorithm. __Different in Information Sharing and Non Info Sharing Cases__\n",
    "\n",
    "\n",
    "AFTER the recommended modifications you can make a trial run as shown next\n",
    "\n",
    "The __REWARD FUNCTION can also be modified__"
   ]
  },
  {
   "cell_type": "markdown",
   "metadata": {},
   "source": [
    "## 6. RUN MARLISA 2022\n",
    "\n",
    "To run Marlisa, we need to give it parameters that influence it's learning \n",
    "\n",
    "The MARLISA Algorithm takes inputs that we can be classified into two categories\n",
    "\n",
    "### 6.1. Environment Parameters\n",
    "\n",
    "These are parameters specific to the reinforcement learning environment (CityLearn Version). They give information about the simulation envrionment that will be used. details about these environmental variables are explored above, to understanding the [2022 citylearn environment, check this notebook](https://www.aicrowd.com/showcase/baby-steps-5fd2bef3-19a6-4ba6-887a-6bbe957a4e33). A summary explanation can be laid down as follows.\n",
    "\n",
    "- __'building_ids':__ These are the buildings identities in the environment written in the form `\"Building_id\"` where id is a building number a building_id can look as follows\n",
    "    - `[\"Building_1\", \"Building_2\", ... , \"Building_n\"]`\n",
    "- __'buildings_states_actions':__ This is a json file defining the different states and actions possible for a building e.g If a building has a \n",
    "    - `states {day :  False,  temp: True}` it means there will be information for temp but not for day\n",
    "    - `\"actions\": {\"cooling_storage\": true, \"dhw_storage\": true, \"electrical_storage\": false}`. this means there will be no action required or electric storage is absent in the building\n",
    "- __'building_info':__ Gives valuable information about a building like\n",
    "    - `solar_power_capacity (kW)`\n",
    "    - `Annual_DHW_demand (kWh)`\n",
    "    - `Annual_cooling_demand (kWh)`\n",
    "    - `Annual_nonshiftable_electrical_demand (kWh)`\n",
    "    - `etc`\n",
    "- __'observation_spaces':__ This is information about the observation space of every building in the environment. \n",
    "    - It contains n arrays where n is the number of buildings\n",
    "    - Each array contains the lower and upper bound for the building observation along with it's dimension and datatype\n",
    "- __'action_spaces':__ This is information about the actions_spaces of every building in the environment\n",
    "    - It contains n arrays where n is the number of buildings\n",
    "    - Each array contains the lower and upper bound for the building action along with it's dimension and datatype\n",
    "\n",
    "\n",
    "### 6.2. Algorithm Parameters\n",
    "\n",
    "These are parameters specific to our reinforcement learning algorithm. Details about these parameters can be found in the [paper](https://dl.acm.org/doi/10.1145/3408308.3427604). The settings below  are as provided in the original MARLISA implementation found [here](https://github.com/intelligent-environments-lab/CityLearn/blob/master/examples/example_marlisa.ipynb)\n",
    "\n",
    "- `hidden_dim`:[256,256], \n",
    "- `discount`:0.99, \n",
    "- `tau`:5e-3, \n",
    "- `lr`:3e-4, \n",
    "- `batch_size`:256, \n",
    "- `replay_buffer_capacity`:1e5, \n",
    "- `regression_buffer_capacity`:3e4, \n",
    "- `start_training`:600, # Start updating actor-critic networks\n",
    "- `exploration_period`:7500, # Just taking random actions\n",
    "- `start_regression`:500, # Start training the regression model\n",
    "- `information_sharing`:True, # If True -> set the appropriate 'reward_function_ma' in reward_function.py\n",
    "- `pca_compression`:.95, \n",
    "- `action_scaling_coef`:0.5, # Actions are multiplied by this factor to prevent too aggressive actions\n",
    "- `reward_scaling`:5., # Rewards are normalized and multiplied by this factor\n",
    "- `update_per_step`:2, # How many times the actor-critic networks are updated every hourly time-step\n",
    "- `iterations_as`:2,# Iterations of the iterative action selection (see MARLISA paper for more info)\n",
    "- `safe_exploration`:True\n",
    "\n",
    "__NOTE: Set the appropriate number of buildings as the environment. Ensure the BuildingsStatesActions generated have same number of buildings as the given environment__"
   ]
  },
  {
   "cell_type": "code",
   "execution_count": 9,
   "metadata": {},
   "outputs": [
    {
     "data": {
      "text/plain": [
       "{'Building_1': {'solar_power': 4.0,\n",
       "  'annual_dhw_demand': 0.0,\n",
       "  'annual_cooling_demand': 0.0,\n",
       "  'annual_heating_demand': 0.0,\n",
       "  'annual_nonshiftable_electrical_demand': 10583.353,\n",
       "  'correlations_dhw': {'bee7157f8026471a9597ffb45faefe4f': nan,\n",
       "   '5d6c294e73f04d4795df499e0461f321': nan,\n",
       "   '095ede048de74a19ad1bfd2522478223': nan,\n",
       "   'a722699892aa4b13a0aa2cc8839ed0ff': nan},\n",
       "  'correlations_cooling_demand': {'bee7157f8026471a9597ffb45faefe4f': nan,\n",
       "   '5d6c294e73f04d4795df499e0461f321': nan,\n",
       "   '095ede048de74a19ad1bfd2522478223': nan,\n",
       "   'a722699892aa4b13a0aa2cc8839ed0ff': nan},\n",
       "  'correlations_heating_demand': {'bee7157f8026471a9597ffb45faefe4f': nan,\n",
       "   '5d6c294e73f04d4795df499e0461f321': nan,\n",
       "   '095ede048de74a19ad1bfd2522478223': nan,\n",
       "   'a722699892aa4b13a0aa2cc8839ed0ff': nan},\n",
       "  'correlations_non_shiftable_load': {'bee7157f8026471a9597ffb45faefe4f': 0.196,\n",
       "   '5d6c294e73f04d4795df499e0461f321': 0.192,\n",
       "   '095ede048de74a19ad1bfd2522478223': 0.166,\n",
       "   'a722699892aa4b13a0aa2cc8839ed0ff': 0.25}},\n",
       " 'Building_2': {'solar_power': 4.0,\n",
       "  'annual_dhw_demand': 0.0,\n",
       "  'annual_cooling_demand': 0.0,\n",
       "  'annual_heating_demand': 0.0,\n",
       "  'annual_nonshiftable_electrical_demand': 9353.601,\n",
       "  'correlations_dhw': {'89ff3d4ea89c4dd59a41fa25d99f9f25': nan,\n",
       "   '5d6c294e73f04d4795df499e0461f321': nan,\n",
       "   '095ede048de74a19ad1bfd2522478223': nan,\n",
       "   'a722699892aa4b13a0aa2cc8839ed0ff': nan},\n",
       "  'correlations_cooling_demand': {'89ff3d4ea89c4dd59a41fa25d99f9f25': nan,\n",
       "   '5d6c294e73f04d4795df499e0461f321': nan,\n",
       "   '095ede048de74a19ad1bfd2522478223': nan,\n",
       "   'a722699892aa4b13a0aa2cc8839ed0ff': nan},\n",
       "  'correlations_heating_demand': {'89ff3d4ea89c4dd59a41fa25d99f9f25': nan,\n",
       "   '5d6c294e73f04d4795df499e0461f321': nan,\n",
       "   '095ede048de74a19ad1bfd2522478223': nan,\n",
       "   'a722699892aa4b13a0aa2cc8839ed0ff': nan},\n",
       "  'correlations_non_shiftable_load': {'89ff3d4ea89c4dd59a41fa25d99f9f25': 0.196,\n",
       "   '5d6c294e73f04d4795df499e0461f321': 0.25,\n",
       "   '095ede048de74a19ad1bfd2522478223': 0.196,\n",
       "   'a722699892aa4b13a0aa2cc8839ed0ff': 0.274}},\n",
       " 'Building_3': {'solar_power': 4.0,\n",
       "  'annual_dhw_demand': 0.0,\n",
       "  'annual_cooling_demand': 0.0,\n",
       "  'annual_heating_demand': 0.0,\n",
       "  'annual_nonshiftable_electrical_demand': 7170.435,\n",
       "  'correlations_dhw': {'89ff3d4ea89c4dd59a41fa25d99f9f25': nan,\n",
       "   'bee7157f8026471a9597ffb45faefe4f': nan,\n",
       "   '095ede048de74a19ad1bfd2522478223': nan,\n",
       "   'a722699892aa4b13a0aa2cc8839ed0ff': nan},\n",
       "  'correlations_cooling_demand': {'89ff3d4ea89c4dd59a41fa25d99f9f25': nan,\n",
       "   'bee7157f8026471a9597ffb45faefe4f': nan,\n",
       "   '095ede048de74a19ad1bfd2522478223': nan,\n",
       "   'a722699892aa4b13a0aa2cc8839ed0ff': nan},\n",
       "  'correlations_heating_demand': {'89ff3d4ea89c4dd59a41fa25d99f9f25': nan,\n",
       "   'bee7157f8026471a9597ffb45faefe4f': nan,\n",
       "   '095ede048de74a19ad1bfd2522478223': nan,\n",
       "   'a722699892aa4b13a0aa2cc8839ed0ff': nan},\n",
       "  'correlations_non_shiftable_load': {'89ff3d4ea89c4dd59a41fa25d99f9f25': 0.192,\n",
       "   'bee7157f8026471a9597ffb45faefe4f': 0.25,\n",
       "   '095ede048de74a19ad1bfd2522478223': 0.258,\n",
       "   'a722699892aa4b13a0aa2cc8839ed0ff': 0.262}},\n",
       " 'Building_4': {'solar_power': 5.0,\n",
       "  'annual_dhw_demand': 0.0,\n",
       "  'annual_cooling_demand': 0.0,\n",
       "  'annual_heating_demand': 0.0,\n",
       "  'annual_nonshiftable_electrical_demand': 10793.18,\n",
       "  'correlations_dhw': {'89ff3d4ea89c4dd59a41fa25d99f9f25': nan,\n",
       "   'bee7157f8026471a9597ffb45faefe4f': nan,\n",
       "   '5d6c294e73f04d4795df499e0461f321': nan,\n",
       "   'a722699892aa4b13a0aa2cc8839ed0ff': nan},\n",
       "  'correlations_cooling_demand': {'89ff3d4ea89c4dd59a41fa25d99f9f25': nan,\n",
       "   'bee7157f8026471a9597ffb45faefe4f': nan,\n",
       "   '5d6c294e73f04d4795df499e0461f321': nan,\n",
       "   'a722699892aa4b13a0aa2cc8839ed0ff': nan},\n",
       "  'correlations_heating_demand': {'89ff3d4ea89c4dd59a41fa25d99f9f25': nan,\n",
       "   'bee7157f8026471a9597ffb45faefe4f': nan,\n",
       "   '5d6c294e73f04d4795df499e0461f321': nan,\n",
       "   'a722699892aa4b13a0aa2cc8839ed0ff': nan},\n",
       "  'correlations_non_shiftable_load': {'89ff3d4ea89c4dd59a41fa25d99f9f25': 0.166,\n",
       "   'bee7157f8026471a9597ffb45faefe4f': 0.196,\n",
       "   '5d6c294e73f04d4795df499e0461f321': 0.258,\n",
       "   'a722699892aa4b13a0aa2cc8839ed0ff': 0.485}},\n",
       " 'Building_5': {'solar_power': 4.0,\n",
       "  'annual_dhw_demand': 0.0,\n",
       "  'annual_cooling_demand': 0.0,\n",
       "  'annual_heating_demand': 0.0,\n",
       "  'annual_nonshiftable_electrical_demand': 8807.643,\n",
       "  'correlations_dhw': {'89ff3d4ea89c4dd59a41fa25d99f9f25': nan,\n",
       "   'bee7157f8026471a9597ffb45faefe4f': nan,\n",
       "   '5d6c294e73f04d4795df499e0461f321': nan,\n",
       "   '095ede048de74a19ad1bfd2522478223': nan},\n",
       "  'correlations_cooling_demand': {'89ff3d4ea89c4dd59a41fa25d99f9f25': nan,\n",
       "   'bee7157f8026471a9597ffb45faefe4f': nan,\n",
       "   '5d6c294e73f04d4795df499e0461f321': nan,\n",
       "   '095ede048de74a19ad1bfd2522478223': nan},\n",
       "  'correlations_heating_demand': {'89ff3d4ea89c4dd59a41fa25d99f9f25': nan,\n",
       "   'bee7157f8026471a9597ffb45faefe4f': nan,\n",
       "   '5d6c294e73f04d4795df499e0461f321': nan,\n",
       "   '095ede048de74a19ad1bfd2522478223': nan},\n",
       "  'correlations_non_shiftable_load': {'89ff3d4ea89c4dd59a41fa25d99f9f25': 0.25,\n",
       "   'bee7157f8026471a9597ffb45faefe4f': 0.274,\n",
       "   '5d6c294e73f04d4795df499e0461f321': 0.262,\n",
       "   '095ede048de74a19ad1bfd2522478223': 0.485}}}"
      ]
     },
     "execution_count": 9,
     "metadata": {},
     "output_type": "execute_result"
    }
   ],
   "source": [
    "building_info"
   ]
  },
  {
   "cell_type": "code",
   "execution_count": 10,
   "metadata": {},
   "outputs": [
    {
     "name": "stdout",
     "output_type": "stream",
     "text": [
      "cpu\n"
     ]
    },
    {
     "name": "stderr",
     "output_type": "stream",
     "text": [
      "  0%|          | 0/1 [00:00<?, ?it/s]"
     ]
    },
    {
     "name": "stdout",
     "output_type": "stream",
     "text": [
      " We are now in step <><><> 0, with score >> (1.0855277538865769, 1.0811491864057319, 0.6789850261014287)\n",
      " We are now in step <><><> 720, with score >> (1.0052842117900995, 1.038524262513659, 1.0154507656052603)\n",
      " We are now in step <><><> 1440, with score >> (1.0042846936311665, 1.0449850739450073, 1.014886520555201)\n",
      " We are now in step <><><> 2160, with score >> (1.003345094413593, 1.0509013277317365, 1.0192219946589034)\n",
      " We are now in step <><><> 2880, with score >> (1.0005934684835884, 1.0527178409845632, 1.019240953649947)\n",
      " We are now in step <><><> 3600, with score >> (0.9969722459423442, 1.0481954275805774, 1.0205629793738478)\n",
      " We are now in step <><><> 4320, with score >> (0.9932119920418403, 1.0435591277496856, 1.020603144272641)\n",
      " We are now in step <><><> 5040, with score >> (0.9923708425619776, 1.0459776611236653, 1.0232090814499495)\n",
      " We are now in step <><><> 5760, with score >> (0.9946782364237643, 1.0515169371111144, 1.02173299593993)\n",
      " We are now in step <><><> 6480, with score >> (0.9993439410795942, 1.0582384023109133, 1.0215870499955013)\n",
      " We are now in step <><><> 7200, with score >> (1.0024049349522899, 1.0615639434706328, 1.020315428480675)\n",
      " We are now in step <><><> 7920, with score >> (1.006429122276523, 1.0732371311458833, 1.0417447315482105)\n",
      " We are now in step <><><> 8640, with score >> (1.0071283760053917, 1.073822736748974, 1.0571804059099992)\n"
     ]
    },
    {
     "name": "stderr",
     "output_type": "stream",
     "text": [
      "100%|██████████| 1/1 [42:58<00:00, 2578.49s/it]"
     ]
    },
    {
     "name": "stdout",
     "output_type": "stream",
     "text": [
      "Loss - (1.0069181454045892, 1.0732991926986668, 1.058079760033919) Simulation time (min) - 42.974809447924294\n"
     ]
    },
    {
     "name": "stderr",
     "output_type": "stream",
     "text": [
      "\n"
     ]
    }
   ],
   "source": [
    "from agents.marlisa import MARLISA\n",
    "\n",
    "params_agent = {'building_ids':[\"Building_\"+str(i) for i in [1,2,3,4,5]],\n",
    "                 'buildings_states_actions':BuildingsStatesActions, \n",
    "                 'building_info':building_info,\n",
    "                 'observation_spaces':observations_spaces, \n",
    "                 'action_spaces':actions_spaces, \n",
    "                 'hidden_dim':[256,256], \n",
    "                 'discount':1/12, \n",
    "                 'tau':5e-3, \n",
    "                 'lr':3e-4, \n",
    "                 'batch_size':256, \n",
    "                 'replay_buffer_capacity':1e5, \n",
    "                 'regression_buffer_capacity':3e4, \n",
    "                 'start_training':600, # Start updating actor-critic networks\n",
    "                 'exploration_period':7500, # Just taking random actions\n",
    "                 'start_regression':500, # Start training the regression model\n",
    "                 'information_sharing':True, # If True -> set the appropriate 'reward_function_ma' in reward_function.py\n",
    "                 'pca_compression':.95, \n",
    "                 'action_scaling_coef':0.5, # Actions are multiplied by this factor to prevent too aggressive actions\n",
    "                 'reward_scaling':5., # Rewards are normalized and multiplied by this factor\n",
    "                 'update_per_step':2, # How many times the actor-critic networks are updated every hourly time-step\n",
    "                 'iterations_as':2,# Iterations of the iterative action selection (see MARLISA paper for more info)\n",
    "                 'safe_exploration':True} \n",
    "\n",
    "# Instantiating the control agent(s)\n",
    "#agents = MARLISA(building_ids = params_agent['building_ids'], buildings_states_actions = params_agent['buildings_states_actions'], building_info = params_agent['building_info'], start_training = params_agent['start_training'], exploration_period = params_agent['exploration_period'], start_regression = params_agent['start_regression'])\n",
    "agents = MARLISA(**params_agent)\n",
    "\n",
    "RUNTIME = 30*24\n",
    "shortcut = True\n",
    "cutshort = True\n",
    "# We will use 1 episode if we intend to simulate a real-time RL controller (like in the CityLearn Challenge)\n",
    "# In climate zone 5, 1 episode contains 5 years of data, or 8760*5 time-steps.\n",
    "n_episodes = 1\n",
    "start = time.time()\n",
    "for e in tqdm(range(n_episodes)): \n",
    "    state = env.reset()\n",
    "    done = False\n",
    "    \n",
    "    j = 0\n",
    "    is_evaluating = False\n",
    "    action, coordination_vars = agents.select_action(state, deterministic=is_evaluating)\n",
    "\n",
    "    while (not done) and shortcut:\n",
    "        next_state, reward, done, _ = env.step(action)\n",
    "        action_next, coordination_vars_next = agents.select_action(next_state, deterministic=is_evaluating)\n",
    "        agents.add_to_buffer(state, action, reward, next_state, done, coordination_vars, coordination_vars_next)\n",
    "        coordination_vars = coordination_vars_next\n",
    "        state = next_state\n",
    "        action = action_next\n",
    "\n",
    "        if j%(24*30) == 0:\n",
    "            print(f' We are now in step <><><> {j}, with score >> {env.evaluate()}')\n",
    "        # if cutshort:\n",
    "        #     is_evaluating = (j > (3*RUNTIME)/2)\n",
    "        #     j += 1\n",
    "        \n",
    "        is_evaluating = (j > 3*8760)\n",
    "        j += 1\n",
    "        \n",
    "        # if j >= RUNTIME:\n",
    "        #     shortcut = False\n",
    "        \n",
    "    print('Loss -',env.evaluate(), 'Simulation time (min) -',(time.time()-start)/60.0)\n",
    "    # CPU training for 603mins "
   ]
  },
  {
   "cell_type": "markdown",
   "metadata": {},
   "source": [
    "#### HOPE U LIKED THE SONG\n",
    "\n",
    "Leave a comment for any questions, doubts or corrections\n"
   ]
  }
 ],
 "metadata": {
  "kernelspec": {
   "display_name": "Python 3.7.9 64-bit",
   "language": "python",
   "name": "python3"
  },
  "language_info": {
   "codemirror_mode": {
    "name": "ipython",
    "version": 3
   },
   "file_extension": ".py",
   "mimetype": "text/x-python",
   "name": "python",
   "nbconvert_exporter": "python",
   "pygments_lexer": "ipython3",
   "version": "3.7.9"
  },
  "vscode": {
   "interpreter": {
    "hash": "0868e4ae9b3fdf524906008708dce59ae13688bf69fe4889b88196dd0af546d3"
   }
  }
 },
 "nbformat": 4,
 "nbformat_minor": 4
}
